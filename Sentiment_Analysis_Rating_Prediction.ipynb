{
  "cells": [
    {
      "cell_type": "markdown",
      "id": "b56jtN7kGTnH",
      "metadata": {
        "id": "b56jtN7kGTnH"
      },
      "source": [
        "(1). Installing all the necessary modules:"
      ]
    },
    {
      "cell_type": "code",
      "execution_count": 1,
      "id": "6ed52437",
      "metadata": {
        "id": "6ed52437"
      },
      "outputs": [],
      "source": [
        "#pip install scikit-learn\n"
      ]
    },
    {
      "cell_type": "code",
      "execution_count": 2,
      "id": "a9a2d57e",
      "metadata": {
        "id": "a9a2d57e"
      },
      "outputs": [],
      "source": [
        "#pip install scikit-image"
      ]
    },
    {
      "cell_type": "markdown",
      "id": "324449ff",
      "metadata": {
        "id": "324449ff"
      },
      "source": [
        "(2). Importing all the necessary modules:"
      ]
    },
    {
      "cell_type": "code",
      "execution_count": 3,
      "id": "0f5c21ea",
      "metadata": {
        "id": "0f5c21ea"
      },
      "outputs": [],
      "source": [
        "# IMPORTING ALL THE NECESSARY LIBRARIES AND PACKAGES\n",
        "import pandas as pd\n",
        "import numpy as np\n",
        "import matplotlib.pyplot as plt\n",
        "import seaborn as sns\n",
        "import nltk\n",
        "from nltk.corpus import stopwords\n",
        "import string\n",
        "import math\n",
        "from sklearn.feature_extraction.text import CountVectorizer\n",
        "from sklearn.model_selection import train_test_split, cross_val_score\n",
        "from sklearn.neighbors import KNeighborsClassifier\n",
        "from sklearn.metrics import classification_report\n",
        "from sklearn.metrics import confusion_matrix, accuracy_score, roc_auc_score, roc_curve\n",
        "from sklearn.model_selection import GridSearchCV\n",
        "%matplotlib inline"
      ]
    },
    {
      "cell_type": "markdown",
      "id": "988ae19c",
      "metadata": {
        "id": "988ae19c"
      },
      "source": [
        "(3). Loading and seeing the dataset details:"
      ]
    },
    {
      "cell_type": "code",
      "execution_count": 4,
      "id": "8b8ef684",
      "metadata": {
        "id": "8b8ef684"
      },
      "outputs": [],
      "source": [
        "# LOADING THE DATASET AND SEEING THE DETAILS\n",
        "data = pd.read_csv('/content/yelp.csv')"
      ]
    },
    {
      "cell_type": "code",
      "execution_count": 5,
      "id": "rLbqvr1FE6Li",
      "metadata": {
        "colab": {
          "base_uri": "https://localhost:8080/"
        },
        "id": "rLbqvr1FE6Li",
        "outputId": "911e7bff-3035-4e38-bd7a-a138f4c4674e"
      },
      "outputs": [
        {
          "name": "stdout",
          "output_type": "stream",
          "text": [
            "Few dataset entries:\n",
            "              business_id        date               review_id  stars  \\\n",
            "0  9yKzy9PApeiPPOUJEtnvkg  2011-01-26  fWKvX83p0-ka4JS3dc6E5A      5   \n",
            "1  ZRJwVLyzEJq1VAihDhYiow  2011-07-27  IjZ33sJrzXqU-0X6U8NwyA      5   \n",
            "2  6oRAC4uyJCsJl1X0WZpVSA  2012-06-14  IESLBzqUCLdSzSqm0eCSxQ      4   \n",
            "3  _1QQZuf4zZOyFCvXc0o6Vg  2010-05-27  G-WvGaISbqqaMHlNnByodA      5   \n",
            "4  6ozycU1RpktNG2-1BroVtw  2012-01-05  1uJFq2r5QfJG_6ExMRCaGw      5   \n",
            "\n",
            "                                                text    type  \\\n",
            "0  My wife took me here on my birthday for breakf...  review   \n",
            "1  I have no idea why some people give bad review...  review   \n",
            "2  love the gyro plate. Rice is so good and I als...  review   \n",
            "3  Rosie, Dakota, and I LOVE Chaparral Dog Park!!...  review   \n",
            "4  General Manager Scott Petello is a good egg!!!...  review   \n",
            "\n",
            "                  user_id  cool  useful  funny  \n",
            "0  rLtl8ZkDX5vH5nAx9C3q5Q     2       5      0  \n",
            "1  0a2KyEL0d3Yb1V6aivbIuQ     0       0      0  \n",
            "2  0hT2KtfLiobPvh6cDC8JQg     0       1      0  \n",
            "3  uZetl9T0NcROGOyFfughhg     1       2      0  \n",
            "4  vYmM4KTsC8ZfQBg-j5MWkw     0       0      0  \n"
          ]
        }
      ],
      "source": [
        "# SEEING FEW OF THE ENTRIES\n",
        "print(\"Few dataset entries:\")\n",
        "print(data.head())"
      ]
    },
    {
      "cell_type": "code",
      "execution_count": 6,
      "id": "LAZG8yyTEokr",
      "metadata": {
        "colab": {
          "base_uri": "https://localhost:8080/"
        },
        "id": "LAZG8yyTEokr",
        "outputId": "090abcd2-4886-42d2-e429-6a0cceb716f9"
      },
      "outputs": [
        {
          "name": "stdout",
          "output_type": "stream",
          "text": [
            "Shape of the dataset:\n",
            "(10000, 10)\n"
          ]
        }
      ],
      "source": [
        "# SHAPE OF THE DATASET\n",
        "print(\"Shape of the dataset:\")\n",
        "print(data.shape)"
      ]
    },
    {
      "cell_type": "code",
      "execution_count": 7,
      "id": "557deffe",
      "metadata": {
        "colab": {
          "base_uri": "https://localhost:8080/"
        },
        "id": "557deffe",
        "outputId": "3f5c4cb3-4073-4938-83c5-8845fb691f7e"
      },
      "outputs": [
        {
          "name": "stdout",
          "output_type": "stream",
          "text": [
            "Column names:\n",
            "Index(['business_id', 'date', 'review_id', 'stars', 'text', 'type', 'user_id',\n",
            "       'cool', 'useful', 'funny'],\n",
            "      dtype='object')\n"
          ]
        }
      ],
      "source": [
        "# COLUMN NAMES\n",
        "print(\"Column names:\")\n",
        "print(data.columns)"
      ]
    },
    {
      "cell_type": "code",
      "execution_count": 9,
      "id": "3a150037",
      "metadata": {
        "colab": {
          "base_uri": "https://localhost:8080/"
        },
        "id": "3a150037",
        "outputId": "cae743ab-2ad0-49a1-9d37-7cd0a978a0cf"
      },
      "outputs": [
        {
          "name": "stdout",
          "output_type": "stream",
          "text": [
            "<class 'pandas.core.frame.DataFrame'>\n",
            "RangeIndex: 10000 entries, 0 to 9999\n",
            "Data columns (total 10 columns):\n",
            " #   Column       Non-Null Count  Dtype \n",
            "---  ------       --------------  ----- \n",
            " 0   business_id  10000 non-null  object\n",
            " 1   date         10000 non-null  object\n",
            " 2   review_id    10000 non-null  object\n",
            " 3   stars        10000 non-null  int64 \n",
            " 4   text         10000 non-null  object\n",
            " 5   type         10000 non-null  object\n",
            " 6   user_id      10000 non-null  object\n",
            " 7   cool         10000 non-null  int64 \n",
            " 8   useful       10000 non-null  int64 \n",
            " 9   funny        10000 non-null  int64 \n",
            "dtypes: int64(4), object(6)\n",
            "memory usage: 781.4+ KB\n"
          ]
        }
      ],
      "source": [
        "# CONCISE SUMMARY OF DATASET\n",
        "data.info(verbose=None, buf=None, max_cols=None, memory_usage=None, null_counts=None)"
      ]
    },
    {
      "cell_type": "code",
      "execution_count": 10,
      "id": "b0wOL9egFcZC",
      "metadata": {
        "colab": {
          "base_uri": "https://localhost:8080/",
          "height": 300
        },
        "id": "b0wOL9egFcZC",
        "outputId": "786ce0a5-7631-4339-fa31-1c24e76973d8"
      },
      "outputs": [
        {
          "data": {
            "text/html": [
              "\n",
              "  <div id=\"df-4549d53b-9db3-453f-9487-169363c7a41a\">\n",
              "    <div class=\"colab-df-container\">\n",
              "      <div>\n",
              "<style scoped>\n",
              "    .dataframe tbody tr th:only-of-type {\n",
              "        vertical-align: middle;\n",
              "    }\n",
              "\n",
              "    .dataframe tbody tr th {\n",
              "        vertical-align: top;\n",
              "    }\n",
              "\n",
              "    .dataframe thead th {\n",
              "        text-align: right;\n",
              "    }\n",
              "</style>\n",
              "<table border=\"1\" class=\"dataframe\">\n",
              "  <thead>\n",
              "    <tr style=\"text-align: right;\">\n",
              "      <th></th>\n",
              "      <th>stars</th>\n",
              "      <th>cool</th>\n",
              "      <th>useful</th>\n",
              "      <th>funny</th>\n",
              "    </tr>\n",
              "  </thead>\n",
              "  <tbody>\n",
              "    <tr>\n",
              "      <th>count</th>\n",
              "      <td>10000.000000</td>\n",
              "      <td>10000.000000</td>\n",
              "      <td>10000.000000</td>\n",
              "      <td>10000.000000</td>\n",
              "    </tr>\n",
              "    <tr>\n",
              "      <th>mean</th>\n",
              "      <td>3.777500</td>\n",
              "      <td>0.876800</td>\n",
              "      <td>1.409300</td>\n",
              "      <td>0.701300</td>\n",
              "    </tr>\n",
              "    <tr>\n",
              "      <th>std</th>\n",
              "      <td>1.214636</td>\n",
              "      <td>2.067861</td>\n",
              "      <td>2.336647</td>\n",
              "      <td>1.907942</td>\n",
              "    </tr>\n",
              "    <tr>\n",
              "      <th>min</th>\n",
              "      <td>1.000000</td>\n",
              "      <td>0.000000</td>\n",
              "      <td>0.000000</td>\n",
              "      <td>0.000000</td>\n",
              "    </tr>\n",
              "    <tr>\n",
              "      <th>25%</th>\n",
              "      <td>3.000000</td>\n",
              "      <td>0.000000</td>\n",
              "      <td>0.000000</td>\n",
              "      <td>0.000000</td>\n",
              "    </tr>\n",
              "    <tr>\n",
              "      <th>50%</th>\n",
              "      <td>4.000000</td>\n",
              "      <td>0.000000</td>\n",
              "      <td>1.000000</td>\n",
              "      <td>0.000000</td>\n",
              "    </tr>\n",
              "    <tr>\n",
              "      <th>75%</th>\n",
              "      <td>5.000000</td>\n",
              "      <td>1.000000</td>\n",
              "      <td>2.000000</td>\n",
              "      <td>1.000000</td>\n",
              "    </tr>\n",
              "    <tr>\n",
              "      <th>max</th>\n",
              "      <td>5.000000</td>\n",
              "      <td>77.000000</td>\n",
              "      <td>76.000000</td>\n",
              "      <td>57.000000</td>\n",
              "    </tr>\n",
              "  </tbody>\n",
              "</table>\n",
              "</div>\n",
              "      <button class=\"colab-df-convert\" onclick=\"convertToInteractive('df-4549d53b-9db3-453f-9487-169363c7a41a')\"\n",
              "              title=\"Convert this dataframe to an interactive table.\"\n",
              "              style=\"display:none;\">\n",
              "        \n",
              "  <svg xmlns=\"http://www.w3.org/2000/svg\" height=\"24px\"viewBox=\"0 0 24 24\"\n",
              "       width=\"24px\">\n",
              "    <path d=\"M0 0h24v24H0V0z\" fill=\"none\"/>\n",
              "    <path d=\"M18.56 5.44l.94 2.06.94-2.06 2.06-.94-2.06-.94-.94-2.06-.94 2.06-2.06.94zm-11 1L8.5 8.5l.94-2.06 2.06-.94-2.06-.94L8.5 2.5l-.94 2.06-2.06.94zm10 10l.94 2.06.94-2.06 2.06-.94-2.06-.94-.94-2.06-.94 2.06-2.06.94z\"/><path d=\"M17.41 7.96l-1.37-1.37c-.4-.4-.92-.59-1.43-.59-.52 0-1.04.2-1.43.59L10.3 9.45l-7.72 7.72c-.78.78-.78 2.05 0 2.83L4 21.41c.39.39.9.59 1.41.59.51 0 1.02-.2 1.41-.59l7.78-7.78 2.81-2.81c.8-.78.8-2.07 0-2.86zM5.41 20L4 18.59l7.72-7.72 1.47 1.35L5.41 20z\"/>\n",
              "  </svg>\n",
              "      </button>\n",
              "      \n",
              "  <style>\n",
              "    .colab-df-container {\n",
              "      display:flex;\n",
              "      flex-wrap:wrap;\n",
              "      gap: 12px;\n",
              "    }\n",
              "\n",
              "    .colab-df-convert {\n",
              "      background-color: #E8F0FE;\n",
              "      border: none;\n",
              "      border-radius: 50%;\n",
              "      cursor: pointer;\n",
              "      display: none;\n",
              "      fill: #1967D2;\n",
              "      height: 32px;\n",
              "      padding: 0 0 0 0;\n",
              "      width: 32px;\n",
              "    }\n",
              "\n",
              "    .colab-df-convert:hover {\n",
              "      background-color: #E2EBFA;\n",
              "      box-shadow: 0px 1px 2px rgba(60, 64, 67, 0.3), 0px 1px 3px 1px rgba(60, 64, 67, 0.15);\n",
              "      fill: #174EA6;\n",
              "    }\n",
              "\n",
              "    [theme=dark] .colab-df-convert {\n",
              "      background-color: #3B4455;\n",
              "      fill: #D2E3FC;\n",
              "    }\n",
              "\n",
              "    [theme=dark] .colab-df-convert:hover {\n",
              "      background-color: #434B5C;\n",
              "      box-shadow: 0px 1px 3px 1px rgba(0, 0, 0, 0.15);\n",
              "      filter: drop-shadow(0px 1px 2px rgba(0, 0, 0, 0.3));\n",
              "      fill: #FFFFFF;\n",
              "    }\n",
              "  </style>\n",
              "\n",
              "      <script>\n",
              "        const buttonEl =\n",
              "          document.querySelector('#df-4549d53b-9db3-453f-9487-169363c7a41a button.colab-df-convert');\n",
              "        buttonEl.style.display =\n",
              "          google.colab.kernel.accessAllowed ? 'block' : 'none';\n",
              "\n",
              "        async function convertToInteractive(key) {\n",
              "          const element = document.querySelector('#df-4549d53b-9db3-453f-9487-169363c7a41a');\n",
              "          const dataTable =\n",
              "            await google.colab.kernel.invokeFunction('convertToInteractive',\n",
              "                                                     [key], {});\n",
              "          if (!dataTable) return;\n",
              "\n",
              "          const docLinkHtml = 'Like what you see? Visit the ' +\n",
              "            '<a target=\"_blank\" href=https://colab.research.google.com/notebooks/data_table.ipynb>data table notebook</a>'\n",
              "            + ' to learn more about interactive tables.';\n",
              "          element.innerHTML = '';\n",
              "          dataTable['output_type'] = 'display_data';\n",
              "          await google.colab.output.renderOutput(dataTable, element);\n",
              "          const docLink = document.createElement('div');\n",
              "          docLink.innerHTML = docLinkHtml;\n",
              "          element.appendChild(docLink);\n",
              "        }\n",
              "      </script>\n",
              "    </div>\n",
              "  </div>\n",
              "  "
            ],
            "text/plain": [
              "              stars          cool        useful         funny\n",
              "count  10000.000000  10000.000000  10000.000000  10000.000000\n",
              "mean       3.777500      0.876800      1.409300      0.701300\n",
              "std        1.214636      2.067861      2.336647      1.907942\n",
              "min        1.000000      0.000000      0.000000      0.000000\n",
              "25%        3.000000      0.000000      0.000000      0.000000\n",
              "50%        4.000000      0.000000      1.000000      0.000000\n",
              "75%        5.000000      1.000000      2.000000      1.000000\n",
              "max        5.000000     77.000000     76.000000     57.000000"
            ]
          },
          "execution_count": 10,
          "metadata": {},
          "output_type": "execute_result"
        }
      ],
      "source": [
        "# DESCRIPTIVE STATISTICS OF DATASET\n",
        "data.describe()"
      ]
    },
    {
      "cell_type": "code",
      "execution_count": 11,
      "id": "053c6e17",
      "metadata": {
        "colab": {
          "base_uri": "https://localhost:8080/"
        },
        "id": "053c6e17",
        "outputId": "d5d0b888-c057-41d8-f7b5-86843e0e6a5f"
      },
      "outputs": [
        {
          "data": {
            "text/plain": [
              "business_id    0\n",
              "date           0\n",
              "review_id      0\n",
              "stars          0\n",
              "text           0\n",
              "type           0\n",
              "user_id        0\n",
              "cool           0\n",
              "useful         0\n",
              "funny          0\n",
              "dtype: int64"
            ]
          },
          "execution_count": 11,
          "metadata": {},
          "output_type": "execute_result"
        }
      ],
      "source": [
        "# CHECKING FOR NULL VALUES\n",
        "data.isnull().sum()"
      ]
    },
    {
      "cell_type": "markdown",
      "id": "784c2b62",
      "metadata": {
        "id": "784c2b62"
      },
      "source": [
        "(4). Analysis of dataset for feature extraction"
      ]
    },
    {
      "cell_type": "code",
      "execution_count": 12,
      "id": "375dbefe",
      "metadata": {
        "colab": {
          "base_uri": "https://localhost:8080/",
          "height": 354
        },
        "id": "375dbefe",
        "outputId": "b7f81fb6-5371-4187-c810-4703739e550e"
      },
      "outputs": [
        {
          "data": {
            "text/html": [
              "\n",
              "  <div id=\"df-ad590192-f0e8-445a-8705-4cd3f1898810\">\n",
              "    <div class=\"colab-df-container\">\n",
              "      <div>\n",
              "<style scoped>\n",
              "    .dataframe tbody tr th:only-of-type {\n",
              "        vertical-align: middle;\n",
              "    }\n",
              "\n",
              "    .dataframe tbody tr th {\n",
              "        vertical-align: top;\n",
              "    }\n",
              "\n",
              "    .dataframe thead th {\n",
              "        text-align: right;\n",
              "    }\n",
              "</style>\n",
              "<table border=\"1\" class=\"dataframe\">\n",
              "  <thead>\n",
              "    <tr style=\"text-align: right;\">\n",
              "      <th></th>\n",
              "      <th>business_id</th>\n",
              "      <th>date</th>\n",
              "      <th>review_id</th>\n",
              "      <th>stars</th>\n",
              "      <th>text</th>\n",
              "      <th>type</th>\n",
              "      <th>user_id</th>\n",
              "      <th>cool</th>\n",
              "      <th>useful</th>\n",
              "      <th>funny</th>\n",
              "      <th>length</th>\n",
              "    </tr>\n",
              "  </thead>\n",
              "  <tbody>\n",
              "    <tr>\n",
              "      <th>0</th>\n",
              "      <td>9yKzy9PApeiPPOUJEtnvkg</td>\n",
              "      <td>2011-01-26</td>\n",
              "      <td>fWKvX83p0-ka4JS3dc6E5A</td>\n",
              "      <td>5</td>\n",
              "      <td>My wife took me here on my birthday for breakf...</td>\n",
              "      <td>review</td>\n",
              "      <td>rLtl8ZkDX5vH5nAx9C3q5Q</td>\n",
              "      <td>2</td>\n",
              "      <td>5</td>\n",
              "      <td>0</td>\n",
              "      <td>889</td>\n",
              "    </tr>\n",
              "    <tr>\n",
              "      <th>1</th>\n",
              "      <td>ZRJwVLyzEJq1VAihDhYiow</td>\n",
              "      <td>2011-07-27</td>\n",
              "      <td>IjZ33sJrzXqU-0X6U8NwyA</td>\n",
              "      <td>5</td>\n",
              "      <td>I have no idea why some people give bad review...</td>\n",
              "      <td>review</td>\n",
              "      <td>0a2KyEL0d3Yb1V6aivbIuQ</td>\n",
              "      <td>0</td>\n",
              "      <td>0</td>\n",
              "      <td>0</td>\n",
              "      <td>1345</td>\n",
              "    </tr>\n",
              "    <tr>\n",
              "      <th>2</th>\n",
              "      <td>6oRAC4uyJCsJl1X0WZpVSA</td>\n",
              "      <td>2012-06-14</td>\n",
              "      <td>IESLBzqUCLdSzSqm0eCSxQ</td>\n",
              "      <td>4</td>\n",
              "      <td>love the gyro plate. Rice is so good and I als...</td>\n",
              "      <td>review</td>\n",
              "      <td>0hT2KtfLiobPvh6cDC8JQg</td>\n",
              "      <td>0</td>\n",
              "      <td>1</td>\n",
              "      <td>0</td>\n",
              "      <td>76</td>\n",
              "    </tr>\n",
              "    <tr>\n",
              "      <th>3</th>\n",
              "      <td>_1QQZuf4zZOyFCvXc0o6Vg</td>\n",
              "      <td>2010-05-27</td>\n",
              "      <td>G-WvGaISbqqaMHlNnByodA</td>\n",
              "      <td>5</td>\n",
              "      <td>Rosie, Dakota, and I LOVE Chaparral Dog Park!!...</td>\n",
              "      <td>review</td>\n",
              "      <td>uZetl9T0NcROGOyFfughhg</td>\n",
              "      <td>1</td>\n",
              "      <td>2</td>\n",
              "      <td>0</td>\n",
              "      <td>419</td>\n",
              "    </tr>\n",
              "    <tr>\n",
              "      <th>4</th>\n",
              "      <td>6ozycU1RpktNG2-1BroVtw</td>\n",
              "      <td>2012-01-05</td>\n",
              "      <td>1uJFq2r5QfJG_6ExMRCaGw</td>\n",
              "      <td>5</td>\n",
              "      <td>General Manager Scott Petello is a good egg!!!...</td>\n",
              "      <td>review</td>\n",
              "      <td>vYmM4KTsC8ZfQBg-j5MWkw</td>\n",
              "      <td>0</td>\n",
              "      <td>0</td>\n",
              "      <td>0</td>\n",
              "      <td>469</td>\n",
              "    </tr>\n",
              "  </tbody>\n",
              "</table>\n",
              "</div>\n",
              "      <button class=\"colab-df-convert\" onclick=\"convertToInteractive('df-ad590192-f0e8-445a-8705-4cd3f1898810')\"\n",
              "              title=\"Convert this dataframe to an interactive table.\"\n",
              "              style=\"display:none;\">\n",
              "        \n",
              "  <svg xmlns=\"http://www.w3.org/2000/svg\" height=\"24px\"viewBox=\"0 0 24 24\"\n",
              "       width=\"24px\">\n",
              "    <path d=\"M0 0h24v24H0V0z\" fill=\"none\"/>\n",
              "    <path d=\"M18.56 5.44l.94 2.06.94-2.06 2.06-.94-2.06-.94-.94-2.06-.94 2.06-2.06.94zm-11 1L8.5 8.5l.94-2.06 2.06-.94-2.06-.94L8.5 2.5l-.94 2.06-2.06.94zm10 10l.94 2.06.94-2.06 2.06-.94-2.06-.94-.94-2.06-.94 2.06-2.06.94z\"/><path d=\"M17.41 7.96l-1.37-1.37c-.4-.4-.92-.59-1.43-.59-.52 0-1.04.2-1.43.59L10.3 9.45l-7.72 7.72c-.78.78-.78 2.05 0 2.83L4 21.41c.39.39.9.59 1.41.59.51 0 1.02-.2 1.41-.59l7.78-7.78 2.81-2.81c.8-.78.8-2.07 0-2.86zM5.41 20L4 18.59l7.72-7.72 1.47 1.35L5.41 20z\"/>\n",
              "  </svg>\n",
              "      </button>\n",
              "      \n",
              "  <style>\n",
              "    .colab-df-container {\n",
              "      display:flex;\n",
              "      flex-wrap:wrap;\n",
              "      gap: 12px;\n",
              "    }\n",
              "\n",
              "    .colab-df-convert {\n",
              "      background-color: #E8F0FE;\n",
              "      border: none;\n",
              "      border-radius: 50%;\n",
              "      cursor: pointer;\n",
              "      display: none;\n",
              "      fill: #1967D2;\n",
              "      height: 32px;\n",
              "      padding: 0 0 0 0;\n",
              "      width: 32px;\n",
              "    }\n",
              "\n",
              "    .colab-df-convert:hover {\n",
              "      background-color: #E2EBFA;\n",
              "      box-shadow: 0px 1px 2px rgba(60, 64, 67, 0.3), 0px 1px 3px 1px rgba(60, 64, 67, 0.15);\n",
              "      fill: #174EA6;\n",
              "    }\n",
              "\n",
              "    [theme=dark] .colab-df-convert {\n",
              "      background-color: #3B4455;\n",
              "      fill: #D2E3FC;\n",
              "    }\n",
              "\n",
              "    [theme=dark] .colab-df-convert:hover {\n",
              "      background-color: #434B5C;\n",
              "      box-shadow: 0px 1px 3px 1px rgba(0, 0, 0, 0.15);\n",
              "      filter: drop-shadow(0px 1px 2px rgba(0, 0, 0, 0.3));\n",
              "      fill: #FFFFFF;\n",
              "    }\n",
              "  </style>\n",
              "\n",
              "      <script>\n",
              "        const buttonEl =\n",
              "          document.querySelector('#df-ad590192-f0e8-445a-8705-4cd3f1898810 button.colab-df-convert');\n",
              "        buttonEl.style.display =\n",
              "          google.colab.kernel.accessAllowed ? 'block' : 'none';\n",
              "\n",
              "        async function convertToInteractive(key) {\n",
              "          const element = document.querySelector('#df-ad590192-f0e8-445a-8705-4cd3f1898810');\n",
              "          const dataTable =\n",
              "            await google.colab.kernel.invokeFunction('convertToInteractive',\n",
              "                                                     [key], {});\n",
              "          if (!dataTable) return;\n",
              "\n",
              "          const docLinkHtml = 'Like what you see? Visit the ' +\n",
              "            '<a target=\"_blank\" href=https://colab.research.google.com/notebooks/data_table.ipynb>data table notebook</a>'\n",
              "            + ' to learn more about interactive tables.';\n",
              "          element.innerHTML = '';\n",
              "          dataTable['output_type'] = 'display_data';\n",
              "          await google.colab.output.renderOutput(dataTable, element);\n",
              "          const docLink = document.createElement('div');\n",
              "          docLink.innerHTML = docLinkHtml;\n",
              "          element.appendChild(docLink);\n",
              "        }\n",
              "      </script>\n",
              "    </div>\n",
              "  </div>\n",
              "  "
            ],
            "text/plain": [
              "              business_id        date               review_id  stars  \\\n",
              "0  9yKzy9PApeiPPOUJEtnvkg  2011-01-26  fWKvX83p0-ka4JS3dc6E5A      5   \n",
              "1  ZRJwVLyzEJq1VAihDhYiow  2011-07-27  IjZ33sJrzXqU-0X6U8NwyA      5   \n",
              "2  6oRAC4uyJCsJl1X0WZpVSA  2012-06-14  IESLBzqUCLdSzSqm0eCSxQ      4   \n",
              "3  _1QQZuf4zZOyFCvXc0o6Vg  2010-05-27  G-WvGaISbqqaMHlNnByodA      5   \n",
              "4  6ozycU1RpktNG2-1BroVtw  2012-01-05  1uJFq2r5QfJG_6ExMRCaGw      5   \n",
              "\n",
              "                                                text    type  \\\n",
              "0  My wife took me here on my birthday for breakf...  review   \n",
              "1  I have no idea why some people give bad review...  review   \n",
              "2  love the gyro plate. Rice is so good and I als...  review   \n",
              "3  Rosie, Dakota, and I LOVE Chaparral Dog Park!!...  review   \n",
              "4  General Manager Scott Petello is a good egg!!!...  review   \n",
              "\n",
              "                  user_id  cool  useful  funny  length  \n",
              "0  rLtl8ZkDX5vH5nAx9C3q5Q     2       5      0     889  \n",
              "1  0a2KyEL0d3Yb1V6aivbIuQ     0       0      0    1345  \n",
              "2  0hT2KtfLiobPvh6cDC8JQg     0       1      0      76  \n",
              "3  uZetl9T0NcROGOyFfughhg     1       2      0     419  \n",
              "4  vYmM4KTsC8ZfQBg-j5MWkw     0       0      0     469  "
            ]
          },
          "execution_count": 12,
          "metadata": {},
          "output_type": "execute_result"
        }
      ],
      "source": [
        "#CREATING A NEW COLUMN IN THE DATASET FOR THE NUMBER OF WORDS IN THE REVIEW\n",
        "data['length'] = data['text'].apply(len)\n",
        "data.head()"
      ]
    },
    {
      "cell_type": "code",
      "execution_count": 13,
      "id": "q07PBj1YdPWM",
      "metadata": {
        "colab": {
          "base_uri": "https://localhost:8080/"
        },
        "id": "q07PBj1YdPWM",
        "outputId": "f619355b-b775-44bf-f9a3-c29e5b5673f1"
      },
      "outputs": [
        {
          "data": {
            "text/plain": [
              "10000"
            ]
          },
          "execution_count": 13,
          "metadata": {},
          "output_type": "execute_result"
        }
      ],
      "source": [
        "#TOTAL REVIEW COUNT \n",
        "data['stars'].count()"
      ]
    },
    {
      "cell_type": "code",
      "execution_count": 14,
      "id": "vkN5uI1rdRxj",
      "metadata": {
        "colab": {
          "base_uri": "https://localhost:8080/"
        },
        "id": "vkN5uI1rdRxj",
        "outputId": "ba6ddc92-6c1f-4323-cafd-0e8db0ea9848"
      },
      "outputs": [
        {
          "data": {
            "text/plain": [
              "array([5, 4, 2, 3, 1])"
            ]
          },
          "execution_count": 14,
          "metadata": {},
          "output_type": "execute_result"
        }
      ],
      "source": [
        "# UNIQUE STARS RATING\n",
        "data.stars.unique()"
      ]
    },
    {
      "cell_type": "code",
      "execution_count": 15,
      "id": "FVDbS6zddSLK",
      "metadata": {
        "colab": {
          "base_uri": "https://localhost:8080/"
        },
        "id": "FVDbS6zddSLK",
        "outputId": "4544b5a0-bc6a-412c-e50a-2e514749ba13"
      },
      "outputs": [
        {
          "data": {
            "text/plain": [
              "4    3526\n",
              "5    3337\n",
              "3    1461\n",
              "2     927\n",
              "1     749\n",
              "Name: stars, dtype: int64"
            ]
          },
          "execution_count": 15,
          "metadata": {},
          "output_type": "execute_result"
        }
      ],
      "source": [
        "# INDIVIDUAL STARS COUNT\n",
        "data[\"stars\"].value_counts()"
      ]
    },
    {
      "cell_type": "code",
      "execution_count": 16,
      "id": "YfBl5Hshd1Ra",
      "metadata": {
        "colab": {
          "base_uri": "https://localhost:8080/"
        },
        "id": "YfBl5Hshd1Ra",
        "outputId": "d3e831aa-fa9b-4828-9a4a-538732319015"
      },
      "outputs": [
        {
          "data": {
            "text/plain": [
              "array(['rLtl8ZkDX5vH5nAx9C3q5Q', '0a2KyEL0d3Yb1V6aivbIuQ',\n",
              "       '0hT2KtfLiobPvh6cDC8JQg', ..., 'gGbN1aKQHMgfQZkqlsuwzg',\n",
              "       '0lyVoNazXa20WzUyZPLaQQ', 'KSBFytcdjPKZgXKQnYQdkA'], dtype=object)"
            ]
          },
          "execution_count": 16,
          "metadata": {},
          "output_type": "execute_result"
        }
      ],
      "source": [
        "# FINDING COUNT OF UNIQUE USERS IN THE DATASET\n",
        "data.user_id.unique()"
      ]
    },
    {
      "cell_type": "code",
      "execution_count": 17,
      "id": "AH1Pf0Tzd1IS",
      "metadata": {
        "colab": {
          "base_uri": "https://localhost:8080/"
        },
        "id": "AH1Pf0Tzd1IS",
        "outputId": "93c720a1-bbd2-40a4-e529-f2c18f97e9e1"
      },
      "outputs": [
        {
          "data": {
            "text/plain": [
              "0       rLtl8ZkDX5vH5nAx9C3q5Q\n",
              "1       0a2KyEL0d3Yb1V6aivbIuQ\n",
              "2       0hT2KtfLiobPvh6cDC8JQg\n",
              "3       uZetl9T0NcROGOyFfughhg\n",
              "4       vYmM4KTsC8ZfQBg-j5MWkw\n",
              "                 ...          \n",
              "9995    _eqQoPtQ3e3UxLE4faT6ow\n",
              "9996    ROru4uk5SaYc3rg8IU7SQw\n",
              "9997    gGbN1aKQHMgfQZkqlsuwzg\n",
              "9998    0lyVoNazXa20WzUyZPLaQQ\n",
              "9999    KSBFytcdjPKZgXKQnYQdkA\n",
              "Name: user_id, Length: 10000, dtype: object"
            ]
          },
          "execution_count": 17,
          "metadata": {},
          "output_type": "execute_result"
        }
      ],
      "source": [
        "data_user = data[\"user_id\"]\n",
        "data_user"
      ]
    },
    {
      "cell_type": "code",
      "execution_count": 18,
      "id": "XjU2A73Hd0-6",
      "metadata": {
        "colab": {
          "base_uri": "https://localhost:8080/"
        },
        "id": "XjU2A73Hd0-6",
        "outputId": "dfb4965e-9ebb-4bcf-ddd7-ae50d4e8cbdd"
      },
      "outputs": [
        {
          "data": {
            "text/plain": [
              "count                      10000\n",
              "unique                      6403\n",
              "top       fczQCSmaWF78toLEmb0Zsw\n",
              "freq                          38\n",
              "Name: user_id, dtype: object"
            ]
          },
          "execution_count": 18,
          "metadata": {},
          "output_type": "execute_result"
        }
      ],
      "source": [
        "data_user.describe()"
      ]
    },
    {
      "cell_type": "code",
      "execution_count": 19,
      "id": "6BORksf_d00Z",
      "metadata": {
        "colab": {
          "base_uri": "https://localhost:8080/"
        },
        "id": "6BORksf_d00Z",
        "outputId": "9941f981-1740-4822-acf0-93ed78830662"
      },
      "outputs": [
        {
          "data": {
            "text/plain": [
              "fczQCSmaWF78toLEmb0Zsw    38\n",
              "0CMz8YaO3f8xu4KqQgKb9Q    25\n",
              "90a6z--_CUrl84aCzZyPsg    22\n",
              "0mqHhdKEdak_A1FBhFNXqA    18\n",
              "4ozupHULqGyO42s3zNUzOQ    18\n",
              "                          ..\n",
              "3FvZLg19icrnprA_PzSr9Q     1\n",
              "67QGJdqABqaSEsQR4esrsA     1\n",
              "-yaUMGgbVm1iOG_j8CmBtA     1\n",
              "ebCOe-Bavz5fYCVL716KIA     1\n",
              "KSBFytcdjPKZgXKQnYQdkA     1\n",
              "Name: user_id, Length: 6403, dtype: int64"
            ]
          },
          "execution_count": 19,
          "metadata": {},
          "output_type": "execute_result"
        }
      ],
      "source": [
        "data[\"user_id\"].value_counts()"
      ]
    },
    {
      "cell_type": "code",
      "execution_count": 20,
      "id": "NQHzhLh5d0op",
      "metadata": {
        "id": "NQHzhLh5d0op"
      },
      "outputs": [],
      "source": [
        "# Finding TOP 10 USERS IN THE DATASET\n",
        "user_agg=data.groupby('user_id').agg({'review_id':['count'],'date':['min','max'],\n",
        "                                'useful':['sum'],'funny':['sum'],'cool':['sum'],\n",
        "                               'stars':['mean']})"
      ]
    },
    {
      "cell_type": "code",
      "execution_count": 21,
      "id": "LFLYtK5td0La",
      "metadata": {
        "colab": {
          "base_uri": "https://localhost:8080/",
          "height": 443
        },
        "id": "LFLYtK5td0La",
        "outputId": "6b0b0514-2ecb-4cc7-e2d9-f73b4510f6ff"
      },
      "outputs": [
        {
          "name": "stdout",
          "output_type": "stream",
          "text": [
            "                                     Top 10 Users in Yelp\n"
          ]
        },
        {
          "data": {
            "text/html": [
              "\n",
              "  <div id=\"df-0b2ed7ae-4cd3-43df-89e5-64588850e26a\">\n",
              "    <div class=\"colab-df-container\">\n",
              "      <div>\n",
              "<style scoped>\n",
              "    .dataframe tbody tr th:only-of-type {\n",
              "        vertical-align: middle;\n",
              "    }\n",
              "\n",
              "    .dataframe tbody tr th {\n",
              "        vertical-align: top;\n",
              "    }\n",
              "\n",
              "    .dataframe thead tr th {\n",
              "        text-align: left;\n",
              "    }\n",
              "\n",
              "    .dataframe thead tr:last-of-type th {\n",
              "        text-align: right;\n",
              "    }\n",
              "</style>\n",
              "<table border=\"1\" class=\"dataframe\">\n",
              "  <thead>\n",
              "    <tr>\n",
              "      <th></th>\n",
              "      <th>review_id</th>\n",
              "      <th colspan=\"2\" halign=\"left\">date</th>\n",
              "      <th>useful</th>\n",
              "      <th>funny</th>\n",
              "      <th>cool</th>\n",
              "      <th>stars</th>\n",
              "    </tr>\n",
              "    <tr>\n",
              "      <th></th>\n",
              "      <th>count</th>\n",
              "      <th>min</th>\n",
              "      <th>max</th>\n",
              "      <th>sum</th>\n",
              "      <th>sum</th>\n",
              "      <th>sum</th>\n",
              "      <th>mean</th>\n",
              "    </tr>\n",
              "    <tr>\n",
              "      <th>user_id</th>\n",
              "      <th></th>\n",
              "      <th></th>\n",
              "      <th></th>\n",
              "      <th></th>\n",
              "      <th></th>\n",
              "      <th></th>\n",
              "      <th></th>\n",
              "    </tr>\n",
              "  </thead>\n",
              "  <tbody>\n",
              "    <tr>\n",
              "      <th>fczQCSmaWF78toLEmb0Zsw</th>\n",
              "      <td>38</td>\n",
              "      <td>2007-12-14</td>\n",
              "      <td>2012-07-19</td>\n",
              "      <td>293</td>\n",
              "      <td>147</td>\n",
              "      <td>263</td>\n",
              "      <td>4.131579</td>\n",
              "    </tr>\n",
              "    <tr>\n",
              "      <th>0CMz8YaO3f8xu4KqQgKb9Q</th>\n",
              "      <td>25</td>\n",
              "      <td>2007-01-22</td>\n",
              "      <td>2007-07-20</td>\n",
              "      <td>45</td>\n",
              "      <td>34</td>\n",
              "      <td>44</td>\n",
              "      <td>4.120000</td>\n",
              "    </tr>\n",
              "    <tr>\n",
              "      <th>90a6z--_CUrl84aCzZyPsg</th>\n",
              "      <td>22</td>\n",
              "      <td>2008-02-27</td>\n",
              "      <td>2012-07-23</td>\n",
              "      <td>59</td>\n",
              "      <td>22</td>\n",
              "      <td>44</td>\n",
              "      <td>3.954545</td>\n",
              "    </tr>\n",
              "    <tr>\n",
              "      <th>4ozupHULqGyO42s3zNUzOQ</th>\n",
              "      <td>18</td>\n",
              "      <td>2010-06-26</td>\n",
              "      <td>2012-12-10</td>\n",
              "      <td>130</td>\n",
              "      <td>59</td>\n",
              "      <td>97</td>\n",
              "      <td>4.388889</td>\n",
              "    </tr>\n",
              "    <tr>\n",
              "      <th>0mqHhdKEdak_A1FBhFNXqA</th>\n",
              "      <td>18</td>\n",
              "      <td>2010-04-19</td>\n",
              "      <td>2012-10-19</td>\n",
              "      <td>12</td>\n",
              "      <td>11</td>\n",
              "      <td>2</td>\n",
              "      <td>3.055556</td>\n",
              "    </tr>\n",
              "    <tr>\n",
              "      <th>wHg1YkCzdZq9WBJOTRgxHQ</th>\n",
              "      <td>17</td>\n",
              "      <td>2008-06-13</td>\n",
              "      <td>2012-02-01</td>\n",
              "      <td>100</td>\n",
              "      <td>79</td>\n",
              "      <td>89</td>\n",
              "      <td>3.823529</td>\n",
              "    </tr>\n",
              "    <tr>\n",
              "      <th>0bNXP9quoJEgyVZu9ipGgQ</th>\n",
              "      <td>16</td>\n",
              "      <td>2008-12-05</td>\n",
              "      <td>2012-04-28</td>\n",
              "      <td>115</td>\n",
              "      <td>58</td>\n",
              "      <td>88</td>\n",
              "      <td>2.875000</td>\n",
              "    </tr>\n",
              "    <tr>\n",
              "      <th>_PzSNcfrCjeBxSLXRoMmgQ</th>\n",
              "      <td>16</td>\n",
              "      <td>2009-11-11</td>\n",
              "      <td>2013-01-04</td>\n",
              "      <td>23</td>\n",
              "      <td>13</td>\n",
              "      <td>17</td>\n",
              "      <td>3.750000</td>\n",
              "    </tr>\n",
              "    <tr>\n",
              "      <th>JgDkCER12uiv4lbpmkZ9VA</th>\n",
              "      <td>15</td>\n",
              "      <td>2008-05-27</td>\n",
              "      <td>2011-01-29</td>\n",
              "      <td>30</td>\n",
              "      <td>15</td>\n",
              "      <td>15</td>\n",
              "      <td>2.933333</td>\n",
              "    </tr>\n",
              "    <tr>\n",
              "      <th>joIzw_aUiNvBTuGoytrH7g</th>\n",
              "      <td>15</td>\n",
              "      <td>2009-03-29</td>\n",
              "      <td>2012-01-12</td>\n",
              "      <td>34</td>\n",
              "      <td>18</td>\n",
              "      <td>22</td>\n",
              "      <td>2.933333</td>\n",
              "    </tr>\n",
              "  </tbody>\n",
              "</table>\n",
              "</div>\n",
              "      <button class=\"colab-df-convert\" onclick=\"convertToInteractive('df-0b2ed7ae-4cd3-43df-89e5-64588850e26a')\"\n",
              "              title=\"Convert this dataframe to an interactive table.\"\n",
              "              style=\"display:none;\">\n",
              "        \n",
              "  <svg xmlns=\"http://www.w3.org/2000/svg\" height=\"24px\"viewBox=\"0 0 24 24\"\n",
              "       width=\"24px\">\n",
              "    <path d=\"M0 0h24v24H0V0z\" fill=\"none\"/>\n",
              "    <path d=\"M18.56 5.44l.94 2.06.94-2.06 2.06-.94-2.06-.94-.94-2.06-.94 2.06-2.06.94zm-11 1L8.5 8.5l.94-2.06 2.06-.94-2.06-.94L8.5 2.5l-.94 2.06-2.06.94zm10 10l.94 2.06.94-2.06 2.06-.94-2.06-.94-.94-2.06-.94 2.06-2.06.94z\"/><path d=\"M17.41 7.96l-1.37-1.37c-.4-.4-.92-.59-1.43-.59-.52 0-1.04.2-1.43.59L10.3 9.45l-7.72 7.72c-.78.78-.78 2.05 0 2.83L4 21.41c.39.39.9.59 1.41.59.51 0 1.02-.2 1.41-.59l7.78-7.78 2.81-2.81c.8-.78.8-2.07 0-2.86zM5.41 20L4 18.59l7.72-7.72 1.47 1.35L5.41 20z\"/>\n",
              "  </svg>\n",
              "      </button>\n",
              "      \n",
              "  <style>\n",
              "    .colab-df-container {\n",
              "      display:flex;\n",
              "      flex-wrap:wrap;\n",
              "      gap: 12px;\n",
              "    }\n",
              "\n",
              "    .colab-df-convert {\n",
              "      background-color: #E8F0FE;\n",
              "      border: none;\n",
              "      border-radius: 50%;\n",
              "      cursor: pointer;\n",
              "      display: none;\n",
              "      fill: #1967D2;\n",
              "      height: 32px;\n",
              "      padding: 0 0 0 0;\n",
              "      width: 32px;\n",
              "    }\n",
              "\n",
              "    .colab-df-convert:hover {\n",
              "      background-color: #E2EBFA;\n",
              "      box-shadow: 0px 1px 2px rgba(60, 64, 67, 0.3), 0px 1px 3px 1px rgba(60, 64, 67, 0.15);\n",
              "      fill: #174EA6;\n",
              "    }\n",
              "\n",
              "    [theme=dark] .colab-df-convert {\n",
              "      background-color: #3B4455;\n",
              "      fill: #D2E3FC;\n",
              "    }\n",
              "\n",
              "    [theme=dark] .colab-df-convert:hover {\n",
              "      background-color: #434B5C;\n",
              "      box-shadow: 0px 1px 3px 1px rgba(0, 0, 0, 0.15);\n",
              "      filter: drop-shadow(0px 1px 2px rgba(0, 0, 0, 0.3));\n",
              "      fill: #FFFFFF;\n",
              "    }\n",
              "  </style>\n",
              "\n",
              "      <script>\n",
              "        const buttonEl =\n",
              "          document.querySelector('#df-0b2ed7ae-4cd3-43df-89e5-64588850e26a button.colab-df-convert');\n",
              "        buttonEl.style.display =\n",
              "          google.colab.kernel.accessAllowed ? 'block' : 'none';\n",
              "\n",
              "        async function convertToInteractive(key) {\n",
              "          const element = document.querySelector('#df-0b2ed7ae-4cd3-43df-89e5-64588850e26a');\n",
              "          const dataTable =\n",
              "            await google.colab.kernel.invokeFunction('convertToInteractive',\n",
              "                                                     [key], {});\n",
              "          if (!dataTable) return;\n",
              "\n",
              "          const docLinkHtml = 'Like what you see? Visit the ' +\n",
              "            '<a target=\"_blank\" href=https://colab.research.google.com/notebooks/data_table.ipynb>data table notebook</a>'\n",
              "            + ' to learn more about interactive tables.';\n",
              "          element.innerHTML = '';\n",
              "          dataTable['output_type'] = 'display_data';\n",
              "          await google.colab.output.renderOutput(dataTable, element);\n",
              "          const docLink = document.createElement('div');\n",
              "          docLink.innerHTML = docLinkHtml;\n",
              "          element.appendChild(docLink);\n",
              "        }\n",
              "      </script>\n",
              "    </div>\n",
              "  </div>\n",
              "  "
            ],
            "text/plain": [
              "                       review_id        date             useful funny cool  \\\n",
              "                           count         min         max    sum   sum  sum   \n",
              "user_id                                                                      \n",
              "fczQCSmaWF78toLEmb0Zsw        38  2007-12-14  2012-07-19    293   147  263   \n",
              "0CMz8YaO3f8xu4KqQgKb9Q        25  2007-01-22  2007-07-20     45    34   44   \n",
              "90a6z--_CUrl84aCzZyPsg        22  2008-02-27  2012-07-23     59    22   44   \n",
              "4ozupHULqGyO42s3zNUzOQ        18  2010-06-26  2012-12-10    130    59   97   \n",
              "0mqHhdKEdak_A1FBhFNXqA        18  2010-04-19  2012-10-19     12    11    2   \n",
              "wHg1YkCzdZq9WBJOTRgxHQ        17  2008-06-13  2012-02-01    100    79   89   \n",
              "0bNXP9quoJEgyVZu9ipGgQ        16  2008-12-05  2012-04-28    115    58   88   \n",
              "_PzSNcfrCjeBxSLXRoMmgQ        16  2009-11-11  2013-01-04     23    13   17   \n",
              "JgDkCER12uiv4lbpmkZ9VA        15  2008-05-27  2011-01-29     30    15   15   \n",
              "joIzw_aUiNvBTuGoytrH7g        15  2009-03-29  2012-01-12     34    18   22   \n",
              "\n",
              "                           stars  \n",
              "                            mean  \n",
              "user_id                           \n",
              "fczQCSmaWF78toLEmb0Zsw  4.131579  \n",
              "0CMz8YaO3f8xu4KqQgKb9Q  4.120000  \n",
              "90a6z--_CUrl84aCzZyPsg  3.954545  \n",
              "4ozupHULqGyO42s3zNUzOQ  4.388889  \n",
              "0mqHhdKEdak_A1FBhFNXqA  3.055556  \n",
              "wHg1YkCzdZq9WBJOTRgxHQ  3.823529  \n",
              "0bNXP9quoJEgyVZu9ipGgQ  2.875000  \n",
              "_PzSNcfrCjeBxSLXRoMmgQ  3.750000  \n",
              "JgDkCER12uiv4lbpmkZ9VA  2.933333  \n",
              "joIzw_aUiNvBTuGoytrH7g  2.933333  "
            ]
          },
          "execution_count": 21,
          "metadata": {},
          "output_type": "execute_result"
        }
      ],
      "source": [
        "user_agg=user_agg.sort_values([('review_id','count')],ascending=False)\n",
        "print(\"                                     Top 10 Users in Yelp\")\n",
        "user_agg.head(10)"
      ]
    },
    {
      "cell_type": "markdown",
      "id": "6da5e046",
      "metadata": {
        "id": "6da5e046"
      },
      "source": [
        "(5). Visualization:"
      ]
    },
    {
      "cell_type": "code",
      "execution_count": 22,
      "id": "4215e588",
      "metadata": {
        "colab": {
          "base_uri": "https://localhost:8080/",
          "height": 242
        },
        "id": "4215e588",
        "outputId": "67b7f2ac-2486-4918-830e-59092ae46191",
        "scrolled": true
      },
      "outputs": [
        {
          "data": {
            "text/plain": [
              "<seaborn.axisgrid.FacetGrid at 0x7f022a95a8e0>"
            ]
          },
          "execution_count": 22,
          "metadata": {},
          "output_type": "execute_result"
        },
        {
          "data": {
            "image/png": "[encoded data removed]",
            "text/plain": [
              "<Figure size 1080x216 with 5 Axes>"
            ]
          },
          "metadata": {
            "needs_background": "light"
          },
          "output_type": "display_data"
        }
      ],
      "source": [
        "# COMPARING TEXT LENGTH TO STARS\n",
        "graph = sns.FacetGrid(data=data,col='stars')\n",
        "graph.map(plt.hist,'length',bins=50,color='blue')"
      ]
    },
    {
      "cell_type": "code",
      "execution_count": 23,
      "id": "0e1004e3",
      "metadata": {
        "colab": {
          "base_uri": "https://localhost:8080/",
          "height": 893
        },
        "id": "0e1004e3",
        "outputId": "043b5627-ad49-4c11-eab2-4c65c22bb3b2"
      },
      "outputs": [
        {
          "data": {
            "image/png": "[encoded data removed]",
            "text/plain": [
              "<Figure size 864x1080 with 1 Axes>"
            ]
          },
          "metadata": {
            "needs_background": "light"
          },
          "output_type": "display_data"
        }
      ],
      "source": [
        "# BAR PLOT - STARS VS COUNT\n",
        "x = [ 1, 2, 3, 4, 5]\n",
        "y = [ 749, 927, 1461, 3526, 3337]\n",
        "colors = ['red', 'blue', 'green', 'orange', 'purple']\n",
        "\n",
        "fig, ax = plt.subplots(figsize=(12, 15))\n",
        "\n",
        "plt.bar(x, y, color=colors)\n",
        "\n",
        "# ADDING LABLES AND TITLES\n",
        "plt.xlabel('Stars')\n",
        "plt.ylabel('Count')\n",
        "plt.title('BAR PLOT - STARS VS COUNT')\n",
        "\n",
        "plt.show()\n"
      ]
    },
    {
      "cell_type": "code",
      "execution_count": 24,
      "id": "c457e4eb",
      "metadata": {
        "colab": {
          "base_uri": "https://localhost:8080/",
          "height": 938
        },
        "id": "c457e4eb",
        "outputId": "7470ab25-154e-43a9-dc60-0e427940f704"
      },
      "outputs": [
        {
          "data": {
            "text/plain": [
              "<seaborn.axisgrid.PairGrid at 0x7f02278d9ac0>"
            ]
          },
          "execution_count": 24,
          "metadata": {},
          "output_type": "execute_result"
        },
        {
          "data": {
            "text/plain": [
              "<Figure size 1080x864 with 0 Axes>"
            ]
          },
          "metadata": {},
          "output_type": "display_data"
        },
        {
          "data": {
            "image/png": "[encoded data removed]",
            "text/plain": [
              "<Figure size 900x900 with 30 Axes>"
            ]
          },
          "metadata": {
            "needs_background": "light"
          },
          "output_type": "display_data"
        }
      ],
      "source": [
        "# PAIRPLOT FOR THE WHOLE DATASET\n",
        "plt.figure(figsize=(15, 12))\n",
        "sns.pairplot(data)"
      ]
    },
    {
      "cell_type": "code",
      "execution_count": 25,
      "id": "a0f5cc8b",
      "metadata": {
        "colab": {
          "base_uri": "https://localhost:8080/",
          "height": 747
        },
        "id": "a0f5cc8b",
        "outputId": "9481a773-22bc-451d-db1c-4084746a58c3"
      },
      "outputs": [
        {
          "data": {
            "text/plain": [
              "Text(0.5, 1.0, 'AVG RATINGS VS YEAR')"
            ]
          },
          "execution_count": 25,
          "metadata": {},
          "output_type": "execute_result"
        },
        {
          "data": {
            "image/png": "[encoded data removed]",
            "text/plain": [
              "<Figure size 1080x864 with 1 Axes>"
            ]
          },
          "metadata": {
            "needs_background": "light"
          },
          "output_type": "display_data"
        }
      ],
      "source": [
        "# BAR PLOT - AVG RATINGS VS YEAR\n",
        "\n",
        "data[\"date\"]= pd.to_datetime(data[\"date\"]).dt.date\n",
        "data.set_index('date').head(1)\n",
        "data[\"Year\"] = pd.to_datetime(data[\"date\"]).dt.year\n",
        "plt.figure(figsize=(15, 12))\n",
        "sns.barplot(x=data[\"Year\"], y=data[\"stars\"], data=data,)\n",
        "plt.title(\"AVG RATINGS VS YEAR\")"
      ]
    },
    {
      "cell_type": "code",
      "execution_count": 26,
      "id": "5e71d32f",
      "metadata": {
        "colab": {
          "base_uri": "https://localhost:8080/",
          "height": 747
        },
        "id": "5e71d32f",
        "outputId": "560d83d1-15ea-4852-d8ea-95b50c43fdd8"
      },
      "outputs": [
        {
          "data": {
            "text/plain": [
              "Text(0.5, 1.0, 'AVG RATINGS VS MONTH')"
            ]
          },
          "execution_count": 26,
          "metadata": {},
          "output_type": "execute_result"
        },
        {
          "data": {
            "image/png": "[encoded data removed]",
            "text/plain": [
              "<Figure size 1080x864 with 1 Axes>"
            ]
          },
          "metadata": {
            "needs_background": "light"
          },
          "output_type": "display_data"
        }
      ],
      "source": [
        "# BAR PLOT - AVG RATINGS VS MONTH\n",
        "\n",
        "data[\"date\"]= pd.to_datetime(data[\"date\"]).dt.date\n",
        "data.set_index('date').head(1)\n",
        "data[\"month\"] = pd.to_datetime(data[\"date\"]).dt.month\n",
        "plt.figure(figsize=(15, 12))\n",
        "sns.barplot(x=data[\"month\"], y=data[\"stars\"], data=data)\n",
        "plt.title(\"AVG RATINGS VS MONTH\")"
      ]
    },
    {
      "cell_type": "code",
      "execution_count": 27,
      "id": "MjDh5OFh3XxV",
      "metadata": {
        "colab": {
          "base_uri": "https://localhost:8080/",
          "height": 747
        },
        "id": "MjDh5OFh3XxV",
        "outputId": "035cec25-e62a-421e-c732-12b56748aa76"
      },
      "outputs": [
        {
          "data": {
            "text/plain": [
              "Text(0.5, 1.0, 'AVG WORDS VS STARS')"
            ]
          },
          "execution_count": 27,
          "metadata": {},
          "output_type": "execute_result"
        },
        {
          "data": {
            "image/png": "[encoded data removed]",
            "text/plain": [
              "<Figure size 1080x864 with 1 Axes>"
            ]
          },
          "metadata": {
            "needs_background": "light"
          },
          "output_type": "display_data"
        }
      ],
      "source": [
        "# BAR PLOT - AVG WORDS VS STARS\n",
        "plt.figure(figsize=(15, 12))\n",
        "sns.barplot(x=data[\"stars\"], y=data[\"length\"], data=data)\n",
        "plt.title(\"AVG WORDS VS STARS\")"
      ]
    },
    {
      "cell_type": "markdown",
      "id": "2771ec3a",
      "metadata": {
        "id": "2771ec3a"
      },
      "source": [
        "(6). Mean Value of the Vote columns"
      ]
    },
    {
      "cell_type": "code",
      "execution_count": 28,
      "id": "e82085d5",
      "metadata": {
        "colab": {
          "base_uri": "https://localhost:8080/",
          "height": 238
        },
        "id": "e82085d5",
        "outputId": "d77ad5a1-21f5-444b-9d29-352a8db2696d"
      },
      "outputs": [
        {
          "data": {
            "text/html": [
              "\n",
              "  <div id=\"df-3369f645-c3ae-4eca-9974-7719c0fa1344\">\n",
              "    <div class=\"colab-df-container\">\n",
              "      <div>\n",
              "<style scoped>\n",
              "    .dataframe tbody tr th:only-of-type {\n",
              "        vertical-align: middle;\n",
              "    }\n",
              "\n",
              "    .dataframe tbody tr th {\n",
              "        vertical-align: top;\n",
              "    }\n",
              "\n",
              "    .dataframe thead th {\n",
              "        text-align: right;\n",
              "    }\n",
              "</style>\n",
              "<table border=\"1\" class=\"dataframe\">\n",
              "  <thead>\n",
              "    <tr style=\"text-align: right;\">\n",
              "      <th></th>\n",
              "      <th>cool</th>\n",
              "      <th>useful</th>\n",
              "      <th>funny</th>\n",
              "      <th>length</th>\n",
              "      <th>Year</th>\n",
              "      <th>month</th>\n",
              "    </tr>\n",
              "    <tr>\n",
              "      <th>stars</th>\n",
              "      <th></th>\n",
              "      <th></th>\n",
              "      <th></th>\n",
              "      <th></th>\n",
              "      <th></th>\n",
              "      <th></th>\n",
              "    </tr>\n",
              "  </thead>\n",
              "  <tbody>\n",
              "    <tr>\n",
              "      <th>1</th>\n",
              "      <td>0.576769</td>\n",
              "      <td>1.604806</td>\n",
              "      <td>1.056075</td>\n",
              "      <td>826.515354</td>\n",
              "      <td>2010.830441</td>\n",
              "      <td>6.671562</td>\n",
              "    </tr>\n",
              "    <tr>\n",
              "      <th>2</th>\n",
              "      <td>0.719525</td>\n",
              "      <td>1.563107</td>\n",
              "      <td>0.875944</td>\n",
              "      <td>842.256742</td>\n",
              "      <td>2010.463862</td>\n",
              "      <td>6.373247</td>\n",
              "    </tr>\n",
              "    <tr>\n",
              "      <th>3</th>\n",
              "      <td>0.788501</td>\n",
              "      <td>1.306639</td>\n",
              "      <td>0.694730</td>\n",
              "      <td>758.498289</td>\n",
              "      <td>2010.366872</td>\n",
              "      <td>6.514716</td>\n",
              "    </tr>\n",
              "    <tr>\n",
              "      <th>4</th>\n",
              "      <td>0.954623</td>\n",
              "      <td>1.395916</td>\n",
              "      <td>0.670448</td>\n",
              "      <td>712.923142</td>\n",
              "      <td>2010.411798</td>\n",
              "      <td>6.240783</td>\n",
              "    </tr>\n",
              "    <tr>\n",
              "      <th>5</th>\n",
              "      <td>0.944261</td>\n",
              "      <td>1.381780</td>\n",
              "      <td>0.608631</td>\n",
              "      <td>624.999101</td>\n",
              "      <td>2010.647588</td>\n",
              "      <td>6.491160</td>\n",
              "    </tr>\n",
              "  </tbody>\n",
              "</table>\n",
              "</div>\n",
              "      <button class=\"colab-df-convert\" onclick=\"convertToInteractive('df-3369f645-c3ae-4eca-9974-7719c0fa1344')\"\n",
              "              title=\"Convert this dataframe to an interactive table.\"\n",
              "              style=\"display:none;\">\n",
              "        \n",
              "  <svg xmlns=\"http://www.w3.org/2000/svg\" height=\"24px\"viewBox=\"0 0 24 24\"\n",
              "       width=\"24px\">\n",
              "    <path d=\"M0 0h24v24H0V0z\" fill=\"none\"/>\n",
              "    <path d=\"M18.56 5.44l.94 2.06.94-2.06 2.06-.94-2.06-.94-.94-2.06-.94 2.06-2.06.94zm-11 1L8.5 8.5l.94-2.06 2.06-.94-2.06-.94L8.5 2.5l-.94 2.06-2.06.94zm10 10l.94 2.06.94-2.06 2.06-.94-2.06-.94-.94-2.06-.94 2.06-2.06.94z\"/><path d=\"M17.41 7.96l-1.37-1.37c-.4-.4-.92-.59-1.43-.59-.52 0-1.04.2-1.43.59L10.3 9.45l-7.72 7.72c-.78.78-.78 2.05 0 2.83L4 21.41c.39.39.9.59 1.41.59.51 0 1.02-.2 1.41-.59l7.78-7.78 2.81-2.81c.8-.78.8-2.07 0-2.86zM5.41 20L4 18.59l7.72-7.72 1.47 1.35L5.41 20z\"/>\n",
              "  </svg>\n",
              "      </button>\n",
              "      \n",
              "  <style>\n",
              "    .colab-df-container {\n",
              "      display:flex;\n",
              "      flex-wrap:wrap;\n",
              "      gap: 12px;\n",
              "    }\n",
              "\n",
              "    .colab-df-convert {\n",
              "      background-color: #E8F0FE;\n",
              "      border: none;\n",
              "      border-radius: 50%;\n",
              "      cursor: pointer;\n",
              "      display: none;\n",
              "      fill: #1967D2;\n",
              "      height: 32px;\n",
              "      padding: 0 0 0 0;\n",
              "      width: 32px;\n",
              "    }\n",
              "\n",
              "    .colab-df-convert:hover {\n",
              "      background-color: #E2EBFA;\n",
              "      box-shadow: 0px 1px 2px rgba(60, 64, 67, 0.3), 0px 1px 3px 1px rgba(60, 64, 67, 0.15);\n",
              "      fill: #174EA6;\n",
              "    }\n",
              "\n",
              "    [theme=dark] .colab-df-convert {\n",
              "      background-color: #3B4455;\n",
              "      fill: #D2E3FC;\n",
              "    }\n",
              "\n",
              "    [theme=dark] .colab-df-convert:hover {\n",
              "      background-color: #434B5C;\n",
              "      box-shadow: 0px 1px 3px 1px rgba(0, 0, 0, 0.15);\n",
              "      filter: drop-shadow(0px 1px 2px rgba(0, 0, 0, 0.3));\n",
              "      fill: #FFFFFF;\n",
              "    }\n",
              "  </style>\n",
              "\n",
              "      <script>\n",
              "        const buttonEl =\n",
              "          document.querySelector('#df-3369f645-c3ae-4eca-9974-7719c0fa1344 button.colab-df-convert');\n",
              "        buttonEl.style.display =\n",
              "          google.colab.kernel.accessAllowed ? 'block' : 'none';\n",
              "\n",
              "        async function convertToInteractive(key) {\n",
              "          const element = document.querySelector('#df-3369f645-c3ae-4eca-9974-7719c0fa1344');\n",
              "          const dataTable =\n",
              "            await google.colab.kernel.invokeFunction('convertToInteractive',\n",
              "                                                     [key], {});\n",
              "          if (!dataTable) return;\n",
              "\n",
              "          const docLinkHtml = 'Like what you see? Visit the ' +\n",
              "            '<a target=\"_blank\" href=https://colab.research.google.com/notebooks/data_table.ipynb>data table notebook</a>'\n",
              "            + ' to learn more about interactive tables.';\n",
              "          element.innerHTML = '';\n",
              "          dataTable['output_type'] = 'display_data';\n",
              "          await google.colab.output.renderOutput(dataTable, element);\n",
              "          const docLink = document.createElement('div');\n",
              "          docLink.innerHTML = docLinkHtml;\n",
              "          element.appendChild(docLink);\n",
              "        }\n",
              "      </script>\n",
              "    </div>\n",
              "  </div>\n",
              "  "
            ],
            "text/plain": [
              "           cool    useful     funny      length         Year     month\n",
              "stars                                                                 \n",
              "1      0.576769  1.604806  1.056075  826.515354  2010.830441  6.671562\n",
              "2      0.719525  1.563107  0.875944  842.256742  2010.463862  6.373247\n",
              "3      0.788501  1.306639  0.694730  758.498289  2010.366872  6.514716\n",
              "4      0.954623  1.395916  0.670448  712.923142  2010.411798  6.240783\n",
              "5      0.944261  1.381780  0.608631  624.999101  2010.647588  6.491160"
            ]
          },
          "execution_count": 28,
          "metadata": {},
          "output_type": "execute_result"
        }
      ],
      "source": [
        "# GETTING THE MEAN VALUES OF THE VOTE COLUMNS WRT THE STARS ON THE REVIEW\n",
        "stval = data.groupby('stars').mean()\n",
        "stval"
      ]
    },
    {
      "cell_type": "markdown",
      "id": "f7c3d56c",
      "metadata": {
        "id": "f7c3d56c"
      },
      "source": [
        "(7). Correlation between the voting columns:"
      ]
    },
    {
      "cell_type": "code",
      "execution_count": 29,
      "id": "3bfe805f",
      "metadata": {
        "colab": {
          "base_uri": "https://localhost:8080/",
          "height": 238
        },
        "id": "3bfe805f",
        "outputId": "af926b62-a04f-48ae-9cbb-0668f1816e1a"
      },
      "outputs": [
        {
          "data": {
            "text/html": [
              "\n",
              "  <div id=\"df-a39d6a74-daad-4687-87db-a2f5aea80975\">\n",
              "    <div class=\"colab-df-container\">\n",
              "      <div>\n",
              "<style scoped>\n",
              "    .dataframe tbody tr th:only-of-type {\n",
              "        vertical-align: middle;\n",
              "    }\n",
              "\n",
              "    .dataframe tbody tr th {\n",
              "        vertical-align: top;\n",
              "    }\n",
              "\n",
              "    .dataframe thead th {\n",
              "        text-align: right;\n",
              "    }\n",
              "</style>\n",
              "<table border=\"1\" class=\"dataframe\">\n",
              "  <thead>\n",
              "    <tr style=\"text-align: right;\">\n",
              "      <th></th>\n",
              "      <th>cool</th>\n",
              "      <th>useful</th>\n",
              "      <th>funny</th>\n",
              "      <th>length</th>\n",
              "      <th>Year</th>\n",
              "      <th>month</th>\n",
              "    </tr>\n",
              "  </thead>\n",
              "  <tbody>\n",
              "    <tr>\n",
              "      <th>cool</th>\n",
              "      <td>1.000000</td>\n",
              "      <td>-0.743329</td>\n",
              "      <td>-0.944939</td>\n",
              "      <td>-0.857664</td>\n",
              "      <td>-0.498188</td>\n",
              "      <td>-0.684644</td>\n",
              "    </tr>\n",
              "    <tr>\n",
              "      <th>useful</th>\n",
              "      <td>-0.743329</td>\n",
              "      <td>1.000000</td>\n",
              "      <td>0.894506</td>\n",
              "      <td>0.699881</td>\n",
              "      <td>0.619854</td>\n",
              "      <td>0.301822</td>\n",
              "    </tr>\n",
              "    <tr>\n",
              "      <th>funny</th>\n",
              "      <td>-0.944939</td>\n",
              "      <td>0.894506</td>\n",
              "      <td>1.000000</td>\n",
              "      <td>0.843461</td>\n",
              "      <td>0.590746</td>\n",
              "      <td>0.542146</td>\n",
              "    </tr>\n",
              "    <tr>\n",
              "      <th>length</th>\n",
              "      <td>-0.857664</td>\n",
              "      <td>0.699881</td>\n",
              "      <td>0.843461</td>\n",
              "      <td>1.000000</td>\n",
              "      <td>0.072901</td>\n",
              "      <td>0.225594</td>\n",
              "    </tr>\n",
              "    <tr>\n",
              "      <th>Year</th>\n",
              "      <td>-0.498188</td>\n",
              "      <td>0.619854</td>\n",
              "      <td>0.590746</td>\n",
              "      <td>0.072901</td>\n",
              "      <td>1.000000</td>\n",
              "      <td>0.724853</td>\n",
              "    </tr>\n",
              "    <tr>\n",
              "      <th>month</th>\n",
              "      <td>-0.684644</td>\n",
              "      <td>0.301822</td>\n",
              "      <td>0.542146</td>\n",
              "      <td>0.225594</td>\n",
              "      <td>0.724853</td>\n",
              "      <td>1.000000</td>\n",
              "    </tr>\n",
              "  </tbody>\n",
              "</table>\n",
              "</div>\n",
              "      <button class=\"colab-df-convert\" onclick=\"convertToInteractive('df-a39d6a74-daad-4687-87db-a2f5aea80975')\"\n",
              "              title=\"Convert this dataframe to an interactive table.\"\n",
              "              style=\"display:none;\">\n",
              "        \n",
              "  <svg xmlns=\"http://www.w3.org/2000/svg\" height=\"24px\"viewBox=\"0 0 24 24\"\n",
              "       width=\"24px\">\n",
              "    <path d=\"M0 0h24v24H0V0z\" fill=\"none\"/>\n",
              "    <path d=\"M18.56 5.44l.94 2.06.94-2.06 2.06-.94-2.06-.94-.94-2.06-.94 2.06-2.06.94zm-11 1L8.5 8.5l.94-2.06 2.06-.94-2.06-.94L8.5 2.5l-.94 2.06-2.06.94zm10 10l.94 2.06.94-2.06 2.06-.94-2.06-.94-.94-2.06-.94 2.06-2.06.94z\"/><path d=\"M17.41 7.96l-1.37-1.37c-.4-.4-.92-.59-1.43-.59-.52 0-1.04.2-1.43.59L10.3 9.45l-7.72 7.72c-.78.78-.78 2.05 0 2.83L4 21.41c.39.39.9.59 1.41.59.51 0 1.02-.2 1.41-.59l7.78-7.78 2.81-2.81c.8-.78.8-2.07 0-2.86zM5.41 20L4 18.59l7.72-7.72 1.47 1.35L5.41 20z\"/>\n",
              "  </svg>\n",
              "      </button>\n",
              "      \n",
              "  <style>\n",
              "    .colab-df-container {\n",
              "      display:flex;\n",
              "      flex-wrap:wrap;\n",
              "      gap: 12px;\n",
              "    }\n",
              "\n",
              "    .colab-df-convert {\n",
              "      background-color: #E8F0FE;\n",
              "      border: none;\n",
              "      border-radius: 50%;\n",
              "      cursor: pointer;\n",
              "      display: none;\n",
              "      fill: #1967D2;\n",
              "      height: 32px;\n",
              "      padding: 0 0 0 0;\n",
              "      width: 32px;\n",
              "    }\n",
              "\n",
              "    .colab-df-convert:hover {\n",
              "      background-color: #E2EBFA;\n",
              "      box-shadow: 0px 1px 2px rgba(60, 64, 67, 0.3), 0px 1px 3px 1px rgba(60, 64, 67, 0.15);\n",
              "      fill: #174EA6;\n",
              "    }\n",
              "\n",
              "    [theme=dark] .colab-df-convert {\n",
              "      background-color: #3B4455;\n",
              "      fill: #D2E3FC;\n",
              "    }\n",
              "\n",
              "    [theme=dark] .colab-df-convert:hover {\n",
              "      background-color: #434B5C;\n",
              "      box-shadow: 0px 1px 3px 1px rgba(0, 0, 0, 0.15);\n",
              "      filter: drop-shadow(0px 1px 2px rgba(0, 0, 0, 0.3));\n",
              "      fill: #FFFFFF;\n",
              "    }\n",
              "  </style>\n",
              "\n",
              "      <script>\n",
              "        const buttonEl =\n",
              "          document.querySelector('#df-a39d6a74-daad-4687-87db-a2f5aea80975 button.colab-df-convert');\n",
              "        buttonEl.style.display =\n",
              "          google.colab.kernel.accessAllowed ? 'block' : 'none';\n",
              "\n",
              "        async function convertToInteractive(key) {\n",
              "          const element = document.querySelector('#df-a39d6a74-daad-4687-87db-a2f5aea80975');\n",
              "          const dataTable =\n",
              "            await google.colab.kernel.invokeFunction('convertToInteractive',\n",
              "                                                     [key], {});\n",
              "          if (!dataTable) return;\n",
              "\n",
              "          const docLinkHtml = 'Like what you see? Visit the ' +\n",
              "            '<a target=\"_blank\" href=https://colab.research.google.com/notebooks/data_table.ipynb>data table notebook</a>'\n",
              "            + ' to learn more about interactive tables.';\n",
              "          element.innerHTML = '';\n",
              "          dataTable['output_type'] = 'display_data';\n",
              "          await google.colab.output.renderOutput(dataTable, element);\n",
              "          const docLink = document.createElement('div');\n",
              "          docLink.innerHTML = docLinkHtml;\n",
              "          element.appendChild(docLink);\n",
              "        }\n",
              "      </script>\n",
              "    </div>\n",
              "  </div>\n",
              "  "
            ],
            "text/plain": [
              "            cool    useful     funny    length      Year     month\n",
              "cool    1.000000 -0.743329 -0.944939 -0.857664 -0.498188 -0.684644\n",
              "useful -0.743329  1.000000  0.894506  0.699881  0.619854  0.301822\n",
              "funny  -0.944939  0.894506  1.000000  0.843461  0.590746  0.542146\n",
              "length -0.857664  0.699881  0.843461  1.000000  0.072901  0.225594\n",
              "Year   -0.498188  0.619854  0.590746  0.072901  1.000000  0.724853\n",
              "month  -0.684644  0.301822  0.542146  0.225594  0.724853  1.000000"
            ]
          },
          "execution_count": 29,
          "metadata": {},
          "output_type": "execute_result"
        }
      ],
      "source": [
        "# FINDING THE CORRELATION BETWEEN THE VOTE COLUMNS\n",
        "corr = stval.corr()\n",
        "corr"
      ]
    },
    {
      "cell_type": "code",
      "execution_count": 30,
      "id": "XfGXjSRQcFh9",
      "metadata": {
        "colab": {
          "base_uri": "https://localhost:8080/",
          "height": 721
        },
        "id": "XfGXjSRQcFh9",
        "outputId": "9e77caed-412a-47eb-b3b8-f76f2370b6f5"
      },
      "outputs": [
        {
          "data": {
            "text/plain": [
              "<AxesSubplot:>"
            ]
          },
          "execution_count": 30,
          "metadata": {},
          "output_type": "execute_result"
        },
        {
          "data": {
            "image/png": "[encoded data removed]",
            "text/plain": [
              "<Figure size 1080x864 with 3 Axes>"
            ]
          },
          "metadata": {
            "needs_background": "light"
          },
          "output_type": "display_data"
        }
      ],
      "source": [
        "# HEAT MAP\n",
        "plt.figure(figsize=(15, 12))\n",
        "sns.heatmap(corr,xticklabels=corr.columns,yticklabels=corr.columns,annot=True)\n",
        "sns.heatmap(corr,xticklabels=corr.columns,yticklabels=corr.columns,annot=True)"
      ]
    },
    {
      "cell_type": "markdown",
      "id": "OmJXynIUcpx5",
      "metadata": {
        "id": "OmJXynIUcpx5"
      },
      "source": [
        "Thus, we can see that there is negative correlation between:\n",
        "\n",
        "* Cool and Useful\n",
        "* Cool and Funny\n",
        "* Cool and Length  <br>\n",
        "Thus, we can say that the reviews marked cool tend to be curt, not very useful to others and short.\n",
        "Whereas, there is a positive correlation between:\n",
        "\n",
        "* Funny and Useful    \n",
        "* Funny and Length\n",
        "* Useful and Length    \n",
        "Thus, we can say that longer reviews tend to be funny and useful."
      ]
    },
    {
      "cell_type": "markdown",
      "id": "5f4986f8",
      "metadata": {
        "id": "5f4986f8"
      },
      "source": [
        "(8). Classifying the dataset and splitting it into the reviews and stars:"
      ]
    },
    {
      "cell_type": "code",
      "execution_count": 31,
      "id": "46222988",
      "metadata": {
        "colab": {
          "base_uri": "https://localhost:8080/",
          "height": 580
        },
        "id": "46222988",
        "outputId": "d04b7d18-fd21-4f32-fc4e-97157b173663"
      },
      "outputs": [
        {
          "data": {
            "text/html": [
              "\n",
              "  <div id=\"df-59799cc8-974e-4a0a-b08c-cdeffcbd5d99\">\n",
              "    <div class=\"colab-df-container\">\n",
              "      <div>\n",
              "<style scoped>\n",
              "    .dataframe tbody tr th:only-of-type {\n",
              "        vertical-align: middle;\n",
              "    }\n",
              "\n",
              "    .dataframe tbody tr th {\n",
              "        vertical-align: top;\n",
              "    }\n",
              "\n",
              "    .dataframe thead th {\n",
              "        text-align: right;\n",
              "    }\n",
              "</style>\n",
              "<table border=\"1\" class=\"dataframe\">\n",
              "  <thead>\n",
              "    <tr style=\"text-align: right;\">\n",
              "      <th></th>\n",
              "      <th>business_id</th>\n",
              "      <th>date</th>\n",
              "      <th>review_id</th>\n",
              "      <th>stars</th>\n",
              "      <th>text</th>\n",
              "      <th>type</th>\n",
              "      <th>user_id</th>\n",
              "      <th>cool</th>\n",
              "      <th>useful</th>\n",
              "      <th>funny</th>\n",
              "      <th>length</th>\n",
              "      <th>Year</th>\n",
              "      <th>month</th>\n",
              "    </tr>\n",
              "  </thead>\n",
              "  <tbody>\n",
              "    <tr>\n",
              "      <th>0</th>\n",
              "      <td>9yKzy9PApeiPPOUJEtnvkg</td>\n",
              "      <td>2011-01-26</td>\n",
              "      <td>fWKvX83p0-ka4JS3dc6E5A</td>\n",
              "      <td>5</td>\n",
              "      <td>My wife took me here on my birthday for breakf...</td>\n",
              "      <td>review</td>\n",
              "      <td>rLtl8ZkDX5vH5nAx9C3q5Q</td>\n",
              "      <td>2</td>\n",
              "      <td>5</td>\n",
              "      <td>0</td>\n",
              "      <td>889</td>\n",
              "      <td>2011</td>\n",
              "      <td>1</td>\n",
              "    </tr>\n",
              "    <tr>\n",
              "      <th>1</th>\n",
              "      <td>ZRJwVLyzEJq1VAihDhYiow</td>\n",
              "      <td>2011-07-27</td>\n",
              "      <td>IjZ33sJrzXqU-0X6U8NwyA</td>\n",
              "      <td>5</td>\n",
              "      <td>I have no idea why some people give bad review...</td>\n",
              "      <td>review</td>\n",
              "      <td>0a2KyEL0d3Yb1V6aivbIuQ</td>\n",
              "      <td>0</td>\n",
              "      <td>0</td>\n",
              "      <td>0</td>\n",
              "      <td>1345</td>\n",
              "      <td>2011</td>\n",
              "      <td>7</td>\n",
              "    </tr>\n",
              "    <tr>\n",
              "      <th>3</th>\n",
              "      <td>_1QQZuf4zZOyFCvXc0o6Vg</td>\n",
              "      <td>2010-05-27</td>\n",
              "      <td>G-WvGaISbqqaMHlNnByodA</td>\n",
              "      <td>5</td>\n",
              "      <td>Rosie, Dakota, and I LOVE Chaparral Dog Park!!...</td>\n",
              "      <td>review</td>\n",
              "      <td>uZetl9T0NcROGOyFfughhg</td>\n",
              "      <td>1</td>\n",
              "      <td>2</td>\n",
              "      <td>0</td>\n",
              "      <td>419</td>\n",
              "      <td>2010</td>\n",
              "      <td>5</td>\n",
              "    </tr>\n",
              "    <tr>\n",
              "      <th>4</th>\n",
              "      <td>6ozycU1RpktNG2-1BroVtw</td>\n",
              "      <td>2012-01-05</td>\n",
              "      <td>1uJFq2r5QfJG_6ExMRCaGw</td>\n",
              "      <td>5</td>\n",
              "      <td>General Manager Scott Petello is a good egg!!!...</td>\n",
              "      <td>review</td>\n",
              "      <td>vYmM4KTsC8ZfQBg-j5MWkw</td>\n",
              "      <td>0</td>\n",
              "      <td>0</td>\n",
              "      <td>0</td>\n",
              "      <td>469</td>\n",
              "      <td>2012</td>\n",
              "      <td>1</td>\n",
              "    </tr>\n",
              "    <tr>\n",
              "      <th>6</th>\n",
              "      <td>zp713qNhx8d9KCJJnrw1xA</td>\n",
              "      <td>2010-02-12</td>\n",
              "      <td>riFQ3vxNpP4rWLk_CSri2A</td>\n",
              "      <td>5</td>\n",
              "      <td>Drop what you're doing and drive here. After I...</td>\n",
              "      <td>review</td>\n",
              "      <td>wFweIWhv2fREZV_dYkz_1g</td>\n",
              "      <td>7</td>\n",
              "      <td>7</td>\n",
              "      <td>4</td>\n",
              "      <td>1565</td>\n",
              "      <td>2010</td>\n",
              "      <td>2</td>\n",
              "    </tr>\n",
              "  </tbody>\n",
              "</table>\n",
              "</div>\n",
              "      <button class=\"colab-df-convert\" onclick=\"convertToInteractive('df-59799cc8-974e-4a0a-b08c-cdeffcbd5d99')\"\n",
              "              title=\"Convert this dataframe to an interactive table.\"\n",
              "              style=\"display:none;\">\n",
              "        \n",
              "  <svg xmlns=\"http://www.w3.org/2000/svg\" height=\"24px\"viewBox=\"0 0 24 24\"\n",
              "       width=\"24px\">\n",
              "    <path d=\"M0 0h24v24H0V0z\" fill=\"none\"/>\n",
              "    <path d=\"M18.56 5.44l.94 2.06.94-2.06 2.06-.94-2.06-.94-.94-2.06-.94 2.06-2.06.94zm-11 1L8.5 8.5l.94-2.06 2.06-.94-2.06-.94L8.5 2.5l-.94 2.06-2.06.94zm10 10l.94 2.06.94-2.06 2.06-.94-2.06-.94-.94-2.06-.94 2.06-2.06.94z\"/><path d=\"M17.41 7.96l-1.37-1.37c-.4-.4-.92-.59-1.43-.59-.52 0-1.04.2-1.43.59L10.3 9.45l-7.72 7.72c-.78.78-.78 2.05 0 2.83L4 21.41c.39.39.9.59 1.41.59.51 0 1.02-.2 1.41-.59l7.78-7.78 2.81-2.81c.8-.78.8-2.07 0-2.86zM5.41 20L4 18.59l7.72-7.72 1.47 1.35L5.41 20z\"/>\n",
              "  </svg>\n",
              "      </button>\n",
              "      \n",
              "  <style>\n",
              "    .colab-df-container {\n",
              "      display:flex;\n",
              "      flex-wrap:wrap;\n",
              "      gap: 12px;\n",
              "    }\n",
              "\n",
              "    .colab-df-convert {\n",
              "      background-color: #E8F0FE;\n",
              "      border: none;\n",
              "      border-radius: 50%;\n",
              "      cursor: pointer;\n",
              "      display: none;\n",
              "      fill: #1967D2;\n",
              "      height: 32px;\n",
              "      padding: 0 0 0 0;\n",
              "      width: 32px;\n",
              "    }\n",
              "\n",
              "    .colab-df-convert:hover {\n",
              "      background-color: #E2EBFA;\n",
              "      box-shadow: 0px 1px 2px rgba(60, 64, 67, 0.3), 0px 1px 3px 1px rgba(60, 64, 67, 0.15);\n",
              "      fill: #174EA6;\n",
              "    }\n",
              "\n",
              "    [theme=dark] .colab-df-convert {\n",
              "      background-color: #3B4455;\n",
              "      fill: #D2E3FC;\n",
              "    }\n",
              "\n",
              "    [theme=dark] .colab-df-convert:hover {\n",
              "      background-color: #434B5C;\n",
              "      box-shadow: 0px 1px 3px 1px rgba(0, 0, 0, 0.15);\n",
              "      filter: drop-shadow(0px 1px 2px rgba(0, 0, 0, 0.3));\n",
              "      fill: #FFFFFF;\n",
              "    }\n",
              "  </style>\n",
              "\n",
              "      <script>\n",
              "        const buttonEl =\n",
              "          document.querySelector('#df-59799cc8-974e-4a0a-b08c-cdeffcbd5d99 button.colab-df-convert');\n",
              "        buttonEl.style.display =\n",
              "          google.colab.kernel.accessAllowed ? 'block' : 'none';\n",
              "\n",
              "        async function convertToInteractive(key) {\n",
              "          const element = document.querySelector('#df-59799cc8-974e-4a0a-b08c-cdeffcbd5d99');\n",
              "          const dataTable =\n",
              "            await google.colab.kernel.invokeFunction('convertToInteractive',\n",
              "                                                     [key], {});\n",
              "          if (!dataTable) return;\n",
              "\n",
              "          const docLinkHtml = 'Like what you see? Visit the ' +\n",
              "            '<a target=\"_blank\" href=https://colab.research.google.com/notebooks/data_table.ipynb>data table notebook</a>'\n",
              "            + ' to learn more about interactive tables.';\n",
              "          element.innerHTML = '';\n",
              "          dataTable['output_type'] = 'display_data';\n",
              "          await google.colab.output.renderOutput(dataTable, element);\n",
              "          const docLink = document.createElement('div');\n",
              "          docLink.innerHTML = docLinkHtml;\n",
              "          element.appendChild(docLink);\n",
              "        }\n",
              "      </script>\n",
              "    </div>\n",
              "  </div>\n",
              "  "
            ],
            "text/plain": [
              "              business_id        date               review_id  stars  \\\n",
              "0  9yKzy9PApeiPPOUJEtnvkg  2011-01-26  fWKvX83p0-ka4JS3dc6E5A      5   \n",
              "1  ZRJwVLyzEJq1VAihDhYiow  2011-07-27  IjZ33sJrzXqU-0X6U8NwyA      5   \n",
              "3  _1QQZuf4zZOyFCvXc0o6Vg  2010-05-27  G-WvGaISbqqaMHlNnByodA      5   \n",
              "4  6ozycU1RpktNG2-1BroVtw  2012-01-05  1uJFq2r5QfJG_6ExMRCaGw      5   \n",
              "6  zp713qNhx8d9KCJJnrw1xA  2010-02-12  riFQ3vxNpP4rWLk_CSri2A      5   \n",
              "\n",
              "                                                text    type  \\\n",
              "0  My wife took me here on my birthday for breakf...  review   \n",
              "1  I have no idea why some people give bad review...  review   \n",
              "3  Rosie, Dakota, and I LOVE Chaparral Dog Park!!...  review   \n",
              "4  General Manager Scott Petello is a good egg!!!...  review   \n",
              "6  Drop what you're doing and drive here. After I...  review   \n",
              "\n",
              "                  user_id  cool  useful  funny  length  Year  month  \n",
              "0  rLtl8ZkDX5vH5nAx9C3q5Q     2       5      0     889  2011      1  \n",
              "1  0a2KyEL0d3Yb1V6aivbIuQ     0       0      0    1345  2011      7  \n",
              "3  uZetl9T0NcROGOyFfughhg     1       2      0     419  2010      5  \n",
              "4  vYmM4KTsC8ZfQBg-j5MWkw     0       0      0     469  2012      1  \n",
              "6  wFweIWhv2fREZV_dYkz_1g     7       7      4    1565  2010      2  "
            ]
          },
          "execution_count": 31,
          "metadata": {},
          "output_type": "execute_result"
        }
      ],
      "source": [
        "# CLASSIFICATION\n",
        "data_classes = data[(data['stars']==1) | (data['stars']==3) | (data['stars']==5)]\n",
        "data_classes.head()"
      ]
    },
    {
      "cell_type": "code",
      "execution_count": 32,
      "id": "hl7aYbIBcwS0",
      "metadata": {
        "colab": {
          "base_uri": "https://localhost:8080/"
        },
        "id": "hl7aYbIBcwS0",
        "outputId": "2561d489-204d-4b5f-c4a7-b0da33ed2c54"
      },
      "outputs": [
        {
          "name": "stdout",
          "output_type": "stream",
          "text": [
            "(5547, 13)\n"
          ]
        }
      ],
      "source": [
        "print(data_classes.shape)"
      ]
    },
    {
      "cell_type": "code",
      "execution_count": 33,
      "id": "472a1242",
      "metadata": {
        "colab": {
          "base_uri": "https://localhost:8080/"
        },
        "id": "472a1242",
        "outputId": "cc15655d-e628-4b06-d512-521595703ce5"
      },
      "outputs": [
        {
          "name": "stdout",
          "output_type": "stream",
          "text": [
            "0    My wife took me here on my birthday for breakf...\n",
            "1    I have no idea why some people give bad review...\n",
            "3    Rosie, Dakota, and I LOVE Chaparral Dog Park!!...\n",
            "4    General Manager Scott Petello is a good egg!!!...\n",
            "6    Drop what you're doing and drive here. After I...\n",
            "Name: text, dtype: object\n",
            "0    5\n",
            "1    5\n",
            "3    5\n",
            "4    5\n",
            "6    5\n",
            "Name: stars, dtype: int64\n"
          ]
        }
      ],
      "source": [
        "# Seperate the dataset into X and Y for prediction\n",
        "\n",
        "x = data_classes['text']\n",
        "y = data_classes['stars']\n",
        "print(x.head())\n",
        "print(y.head())"
      ]
    },
    {
      "cell_type": "markdown",
      "id": "debfd96c",
      "metadata": {
        "id": "debfd96c"
      },
      "source": [
        "(9). Data Cleaning:"
      ]
    },
    {
      "cell_type": "code",
      "execution_count": 34,
      "id": "18f12053",
      "metadata": {
        "id": "18f12053"
      },
      "outputs": [],
      "source": [
        "# CLEANING THE REVIEWS - REMOVAL OF STOPWORDS AND PUNCTUATION\n",
        "def text_process(text):\n",
        "    nopunc = [char for char in text if char not in string.punctuation]\n",
        "    nopunc = ''.join(nopunc)\n",
        "    return [word for word in nopunc.split() if word.lower() not in stopwords.words('english')]"
      ]
    },
    {
      "cell_type": "markdown",
      "id": "f2c70f25",
      "metadata": {
        "id": "f2c70f25"
      },
      "source": [
        "(10). Vectorization"
      ]
    },
    {
      "cell_type": "code",
      "execution_count": 35,
      "id": "9b8fd547",
      "metadata": {
        "colab": {
          "base_uri": "https://localhost:8080/"
        },
        "id": "9b8fd547",
        "outputId": "55b273b5-4255-44b4-a196-4b378a4bc4c5"
      },
      "outputs": [
        {
          "name": "stderr",
          "output_type": "stream",
          "text": [
            "[nltk_data] Downloading package stopwords to /root/nltk_data...\n",
            "[nltk_data]   Package stopwords is already up-to-date!\n"
          ]
        },
        {
          "data": {
            "text/plain": [
              "True"
            ]
          },
          "execution_count": 35,
          "metadata": {},
          "output_type": "execute_result"
        }
      ],
      "source": [
        "#python -m nltk.downloader stopwords\n",
        "\n",
        "import nltk  \n",
        "nltk.download('stopwords')\n"
      ]
    },
    {
      "cell_type": "code",
      "execution_count": 36,
      "id": "aa986173",
      "metadata": {
        "colab": {
          "base_uri": "https://localhost:8080/"
        },
        "id": "aa986173",
        "outputId": "ca19f219-8875-4b6e-c3b2-d914f8f56925"
      },
      "outputs": [
        {
          "name": "stdout",
          "output_type": "stream",
          "text": [
            "31336\n",
            "My wife took me here on my birthday for breakfast and it was excellent.  The weather was perfect which made sitting outside overlooking their grounds an absolute pleasure.  Our waitress was excellent and our food arrived quickly on the semi-busy Saturday morning.  It looked like the place fills up pretty quickly so the earlier you get here the better.\n",
            "\n",
            "Do yourself a favor and get their Bloody Mary.  It was phenomenal and simply the best I've ever had.  I'm pretty sure they only use ingredients from their garden and blend them fresh when you order it.  It was amazing.\n",
            "\n",
            "While EVERYTHING on the menu looks excellent, I had the white truffle scrambled eggs vegetable skillet and it was tasty and delicious.  It came with 2 pieces of their griddled bread with was amazing and it absolutely made the meal complete.  It was the best \"toast\" I've ever had.\n",
            "\n",
            "Anyway, I can't wait to go back!\n",
            "  (0, 292)\t1\n",
            "  (0, 1213)\t1\n",
            "  (0, 1811)\t1\n",
            "  (0, 3537)\t1\n",
            "  (0, 5139)\t1\n",
            "  (0, 5256)\t2\n",
            "  (0, 6275)\t1\n",
            "  (0, 8521)\t1\n",
            "  (0, 10646)\t1\n",
            "  (0, 10647)\t1\n",
            "  (0, 11128)\t2\n",
            "  (0, 11479)\t1\n",
            "  (0, 11779)\t1\n",
            "  (0, 12206)\t2\n",
            "  (0, 12221)\t1\n",
            "  (0, 12297)\t1\n",
            "  (0, 12386)\t1\n",
            "  (0, 12675)\t1\n",
            "  (0, 12689)\t1\n",
            "  (0, 13135)\t1\n",
            "  (0, 13186)\t1\n",
            "  (0, 14247)\t1\n",
            "  (0, 15385)\t1\n",
            "  (0, 16292)\t1\n",
            "  (0, 16412)\t1\n",
            "  :\t:\n",
            "  (0, 23318)\t1\n",
            "  (0, 23801)\t1\n",
            "  (0, 23902)\t1\n",
            "  (0, 23976)\t1\n",
            "  (0, 24080)\t1\n",
            "  (0, 24177)\t1\n",
            "  (0, 24544)\t2\n",
            "  (0, 24972)\t2\n",
            "  (0, 26383)\t1\n",
            "  (0, 26543)\t1\n",
            "  (0, 26978)\t1\n",
            "  (0, 27029)\t1\n",
            "  (0, 27068)\t1\n",
            "  (0, 28403)\t1\n",
            "  (0, 28735)\t1\n",
            "  (0, 29230)\t1\n",
            "  (0, 29313)\t1\n",
            "  (0, 29620)\t1\n",
            "  (0, 30135)\t1\n",
            "  (0, 30240)\t1\n",
            "  (0, 30471)\t1\n",
            "  (0, 30488)\t1\n",
            "  (0, 30672)\t1\n",
            "  (0, 30854)\t1\n",
            "  (0, 30900)\t1\n",
            "Getting the words back:\n",
            "hygienist\n",
            "absence\n"
          ]
        }
      ],
      "source": [
        "# CONVERTING THE WORDS INTO A VECTOR\n",
        "vocab = CountVectorizer(analyzer=text_process).fit(x)\n",
        "print(len(vocab.vocabulary_))\n",
        "r0 = x[0]\n",
        "print(r0)\n",
        "vocab0 = vocab.transform([r0])\n",
        "print(vocab0)\n",
        "\"\"\"\n",
        "    Now the words in the review number 78 have been converted into a vector.\n",
        "    The data that we can see is the transformed words.\n",
        "    If we now get the feature's name - we can get the word back!\n",
        "\"\"\"\n",
        "print(\"Getting the words back:\")\n",
        "print(vocab.get_feature_names_out()[19648])\n",
        "print(vocab.get_feature_names_out()[10643])"
      ]
    },
    {
      "cell_type": "markdown",
      "id": "853614bc",
      "metadata": {
        "id": "853614bc"
      },
      "source": [
        "(11). Vectorization of the whole review set and and checking the sparse matrix:"
      ]
    },
    {
      "cell_type": "code",
      "execution_count": 37,
      "id": "9d54a8a0",
      "metadata": {
        "colab": {
          "base_uri": "https://localhost:8080/"
        },
        "id": "9d54a8a0",
        "outputId": "9d4f749b-a276-4180-8a32-1cd28ed36c78"
      },
      "outputs": [
        {
          "name": "stdout",
          "output_type": "stream",
          "text": [
            "Shape of the sparse matrix:  (5547, 31336)\n",
            "Non-Zero occurences:  312457\n",
            "Density of the matrix =  0.17975812697942373\n"
          ]
        }
      ],
      "source": [
        "x = vocab.transform(x)\n",
        "# Shape of the matrix:\n",
        "print(\"Shape of the sparse matrix: \", x.shape)\n",
        "#Non-zero occurences:\n",
        "print(\"Non-Zero occurences: \",x.nnz)\n",
        "\n",
        "# DENSITY OF THE MATRIX\n",
        "density = (x.nnz/(x.shape[0]*x.shape[1]))*100\n",
        "print(\"Density of the matrix = \",density)"
      ]
    },
    {
      "cell_type": "markdown",
      "id": "cb175c20",
      "metadata": {
        "id": "cb175c20"
      },
      "source": [
        "(12). Splitting the dataset X into training and testing set:"
      ]
    },
    {
      "cell_type": "code",
      "execution_count": 38,
      "id": "a3057eed",
      "metadata": {
        "id": "a3057eed"
      },
      "outputs": [],
      "source": [
        "# SPLITTING THE DATASET INTO TRAINING SET AND TESTING SET\n",
        "x_train,x_test,y_train,y_test = train_test_split(x,y,test_size=0.2,random_state=101)"
      ]
    },
    {
      "cell_type": "markdown",
      "id": "2ba5fdb6",
      "metadata": {
        "id": "2ba5fdb6"
      },
      "source": [
        "(13). Modelling:"
      ]
    },
    {
      "cell_type": "code",
      "execution_count": 39,
      "id": "914ca14f",
      "metadata": {
        "colab": {
          "base_uri": "https://localhost:8080/"
        },
        "id": "914ca14f",
        "outputId": "d7106f45-7e3a-434d-f106-cf5de04955e5"
      },
      "outputs": [
        {
          "name": "stdout",
          "output_type": "stream",
          "text": [
            "Confusion Matrix for Multinomial Naive Bayes:\n",
            "[[ 75  49  38]\n",
            " [  7 180 105]\n",
            " [ 12  45 599]]\n",
            "Score: 76.94\n",
            "Classification Report:               precision    recall  f1-score   support\n",
            "\n",
            "           1       0.80      0.46      0.59       162\n",
            "           3       0.66      0.62      0.64       292\n",
            "           5       0.81      0.91      0.86       656\n",
            "\n",
            "    accuracy                           0.77      1110\n",
            "   macro avg       0.75      0.66      0.69      1110\n",
            "weighted avg       0.77      0.77      0.76      1110\n",
            "\n"
          ]
        }
      ],
      "source": [
        "# Multinomial Naive Bayes\n",
        "from sklearn.naive_bayes import MultinomialNB\n",
        "mnb = MultinomialNB()\n",
        "mnb.fit(x_train,y_train)\n",
        "predmnb = mnb.predict(x_test)\n",
        "print(\"Confusion Matrix for Multinomial Naive Bayes:\")\n",
        "print(confusion_matrix(y_test,predmnb))\n",
        "print(\"Score:\",round(accuracy_score(y_test,predmnb)*100,2))\n",
        "print(\"Classification Report:\",classification_report(y_test,predmnb))"
      ]
    },
    {
      "cell_type": "code",
      "execution_count": 40,
      "id": "f9dc23a2",
      "metadata": {
        "colab": {
          "base_uri": "https://localhost:8080/"
        },
        "id": "f9dc23a2",
        "outputId": "9ece4e46-99bc-4a6b-a9fc-c09b35d5897d"
      },
      "outputs": [
        {
          "name": "stdout",
          "output_type": "stream",
          "text": [
            "Confusion Matrix for Random Forest Classifier:\n",
            "[[ 33  27 102]\n",
            " [  1 107 184]\n",
            " [  2  20 634]]\n",
            "Score: 69.73\n",
            "Classification Report:               precision    recall  f1-score   support\n",
            "\n",
            "           1       0.92      0.20      0.33       162\n",
            "           3       0.69      0.37      0.48       292\n",
            "           5       0.69      0.97      0.80       656\n",
            "\n",
            "    accuracy                           0.70      1110\n",
            "   macro avg       0.77      0.51      0.54      1110\n",
            "weighted avg       0.72      0.70      0.65      1110\n",
            "\n"
          ]
        }
      ],
      "source": [
        "# Random Forest\n",
        "from sklearn.ensemble import RandomForestClassifier\n",
        "rmfr = RandomForestClassifier()\n",
        "rmfr.fit(x_train,y_train)\n",
        "predrmfr = rmfr.predict(x_test)\n",
        "print(\"Confusion Matrix for Random Forest Classifier:\")\n",
        "print(confusion_matrix(y_test,predrmfr))\n",
        "print(\"Score:\",round(accuracy_score(y_test,predrmfr)*100,2))\n",
        "print(\"Classification Report:\",classification_report(y_test,predrmfr))"
      ]
    },
    {
      "cell_type": "code",
      "execution_count": 41,
      "id": "c107a47d",
      "metadata": {
        "colab": {
          "base_uri": "https://localhost:8080/"
        },
        "id": "c107a47d",
        "outputId": "86526471-c22a-4319-aadd-717f60a9284f"
      },
      "outputs": [
        {
          "name": "stdout",
          "output_type": "stream",
          "text": [
            "Confusion Matrix for Decision Tree:\n",
            "[[ 61  53  48]\n",
            " [ 33 143 116]\n",
            " [ 35 104 517]]\n",
            "Score: 64.95\n",
            "Classification Report:               precision    recall  f1-score   support\n",
            "\n",
            "           1       0.47      0.38      0.42       162\n",
            "           3       0.48      0.49      0.48       292\n",
            "           5       0.76      0.79      0.77       656\n",
            "\n",
            "    accuracy                           0.65      1110\n",
            "   macro avg       0.57      0.55      0.56      1110\n",
            "weighted avg       0.64      0.65      0.65      1110\n",
            "\n"
          ]
        }
      ],
      "source": [
        "# Decision Tree\n",
        "from sklearn.tree import DecisionTreeClassifier\n",
        "dt = DecisionTreeClassifier()\n",
        "dt.fit(x_train,y_train)\n",
        "preddt = dt.predict(x_test)\n",
        "print(\"Confusion Matrix for Decision Tree:\")\n",
        "print(confusion_matrix(y_test,preddt))\n",
        "print(\"Score:\",round(accuracy_score(y_test,preddt)*100,2))\n",
        "print(\"Classification Report:\",classification_report(y_test,preddt))"
      ]
    },
    {
      "cell_type": "code",
      "execution_count": 42,
      "id": "7cefc7e6",
      "metadata": {
        "colab": {
          "base_uri": "https://localhost:8080/"
        },
        "id": "7cefc7e6",
        "outputId": "183556a7-9def-47b8-9158-7b1a3cc44ec5"
      },
      "outputs": [
        {
          "name": "stdout",
          "output_type": "stream",
          "text": [
            "Confusion Matrix for Support Vector Machines:\n",
            "[[ 31  23 108]\n",
            " [  5 122 165]\n",
            " [  1  19 636]]\n",
            "Score: 71.08\n",
            "Classification Report:               precision    recall  f1-score   support\n",
            "\n",
            "           1       0.84      0.19      0.31       162\n",
            "           3       0.74      0.42      0.54       292\n",
            "           5       0.70      0.97      0.81       656\n",
            "\n",
            "    accuracy                           0.71      1110\n",
            "   macro avg       0.76      0.53      0.55      1110\n",
            "weighted avg       0.73      0.71      0.67      1110\n",
            "\n"
          ]
        }
      ],
      "source": [
        "# Support Vector Machine\n",
        "from sklearn.svm import SVC\n",
        "svm = SVC(random_state=101)\n",
        "svm.fit(x_train,y_train)\n",
        "predsvm = svm.predict(x_test)\n",
        "print(\"Confusion Matrix for Support Vector Machines:\")\n",
        "print(confusion_matrix(y_test,predsvm))\n",
        "print(\"Score:\",round(accuracy_score(y_test,predsvm)*100,2))\n",
        "print(\"Classification Report:\",classification_report(y_test,predsvm))"
      ]
    },
    {
      "cell_type": "code",
      "execution_count": 43,
      "id": "16c82b82",
      "metadata": {
        "colab": {
          "base_uri": "https://localhost:8080/"
        },
        "id": "16c82b82",
        "outputId": "31928e17-e413-47e4-d9da-cbeee8e527a0"
      },
      "outputs": [
        {
          "name": "stdout",
          "output_type": "stream",
          "text": [
            "Confusion Matrix for K Neighbors Classifier:\n",
            "[[ 12  10 140]\n",
            " [  3  33 256]\n",
            " [  8  12 636]]\n",
            "Score:  61.35\n",
            "Classification Report:\n",
            "              precision    recall  f1-score   support\n",
            "\n",
            "           1       0.52      0.07      0.13       162\n",
            "           3       0.60      0.11      0.19       292\n",
            "           5       0.62      0.97      0.75       656\n",
            "\n",
            "    accuracy                           0.61      1110\n",
            "   macro avg       0.58      0.39      0.36      1110\n",
            "weighted avg       0.60      0.61      0.51      1110\n",
            "\n"
          ]
        }
      ],
      "source": [
        "# K Nearest Neighbour Algorithm\n",
        "from sklearn.neighbors import KNeighborsClassifier\n",
        "knn = KNeighborsClassifier(n_neighbors=10)\n",
        "knn.fit(x_train,y_train)\n",
        "predknn = knn.predict(x_test)\n",
        "print(\"Confusion Matrix for K Neighbors Classifier:\")\n",
        "print(confusion_matrix(y_test,predknn))\n",
        "print(\"Score: \",round(accuracy_score(y_test,predknn)*100,2))\n",
        "print(\"Classification Report:\")\n",
        "print(classification_report(y_test,predknn))"
      ]
    },
    {
      "cell_type": "code",
      "execution_count": 44,
      "id": "97ca2147",
      "metadata": {
        "colab": {
          "base_uri": "https://localhost:8080/"
        },
        "id": "97ca2147",
        "outputId": "1ea7d24c-83ae-40bb-b79d-3624f4035b34"
      },
      "outputs": [
        {
          "name": "stdout",
          "output_type": "stream",
          "text": [
            "Confusion Matrix for Multilayer Perceptron Classifier:\n",
            "[[ 91  37  34]\n",
            " [ 23 182  87]\n",
            " [ 15  57 584]]\n",
            "Score: 77.21\n",
            "Classification Report:\n",
            "              precision    recall  f1-score   support\n",
            "\n",
            "           1       0.71      0.56      0.63       162\n",
            "           3       0.66      0.62      0.64       292\n",
            "           5       0.83      0.89      0.86       656\n",
            "\n",
            "    accuracy                           0.77      1110\n",
            "   macro avg       0.73      0.69      0.71      1110\n",
            "weighted avg       0.77      0.77      0.77      1110\n",
            "\n"
          ]
        }
      ],
      "source": [
        "# MULTILAYER PERCEPTRON CLASSIFIER\n",
        "from sklearn.neural_network import MLPClassifier\n",
        "mlp = MLPClassifier()\n",
        "mlp.fit(x_train,y_train)\n",
        "predmlp = mlp.predict(x_test)\n",
        "print(\"Confusion Matrix for Multilayer Perceptron Classifier:\")\n",
        "print(confusion_matrix(y_test,predmlp))\n",
        "print(\"Score:\",round(accuracy_score(y_test,predmlp)*100,2))\n",
        "print(\"Classification Report:\")\n",
        "print(classification_report(y_test,predmlp))"
      ]
    },
    {
      "cell_type": "markdown",
      "id": "c99f6939",
      "metadata": {
        "id": "c99f6939"
      },
      "source": [
        "* Multilayer Perceptron = 77.21%\n",
        "* Multinomial Naive Bayes = 76.94%\n",
        "* Random Forest Classifier = 69.73%\n",
        "* Decision Tree = 64.95%\n",
        "* K Neighbor Classifier = 61.35%\n",
        "* Support Vector Machine  = 71.08%"
      ]
    },
    {
      "attachments": {},
      "cell_type": "markdown",
      "id": "54f018dc",
      "metadata": {},
      "source": [
        "Since multilayer perceptron classifier has the best score, let us use it to predict a random positive review, a random average review and a random negative review!"
      ]
    },
    {
      "cell_type": "markdown",
      "id": "jNpkv8gtf00m",
      "metadata": {
        "id": "jNpkv8gtf00m"
      },
      "source": [
        "(14). Rating Prediction on basis of review text."
      ]
    },
    {
      "cell_type": "code",
      "execution_count": 45,
      "id": "15642f6c",
      "metadata": {
        "colab": {
          "base_uri": "https://localhost:8080/"
        },
        "id": "15642f6c",
        "outputId": "8971b6f3-0c6b-4636-bdbb-62095ae7bb6a"
      },
      "outputs": [
        {
          "name": "stdout",
          "output_type": "stream",
          "text": [
            "My wife took me here on my birthday for breakfast and it was excellent.  The weather was perfect which made sitting outside overlooking their grounds an absolute pleasure.  Our waitress was excellent and our food arrived quickly on the semi-busy Saturday morning.  It looked like the place fills up pretty quickly so the earlier you get here the better.\n",
            "\n",
            "Do yourself a favor and get their Bloody Mary.  It was phenomenal and simply the best I've ever had.  I'm pretty sure they only use ingredients from their garden and blend them fresh when you order it.  It was amazing.\n",
            "\n",
            "While EVERYTHING on the menu looks excellent, I had the white truffle scrambled eggs vegetable skillet and it was tasty and delicious.  It came with 2 pieces of their griddled bread with was amazing and it absolutely made the meal complete.  It was the best \"toast\" I've ever had.\n",
            "\n",
            "Anyway, I can't wait to go back!\n",
            "Actual Rating:  5\n",
            "Predicted Rating:\n"
          ]
        },
        {
          "data": {
            "text/plain": [
              "5"
            ]
          },
          "execution_count": 45,
          "metadata": {},
          "output_type": "execute_result"
        }
      ],
      "source": [
        "# POSITIVE REVIEW\n",
        "pr = data['text'][0]\n",
        "print(pr)\n",
        "print(\"Actual Rating: \",data['stars'][0])\n",
        "pr_t = vocab.transform([pr])\n",
        "print(\"Predicted Rating:\")\n",
        "mlp.predict(pr_t)[0]"
      ]
    },
    {
      "cell_type": "code",
      "execution_count": 46,
      "id": "1f74ae88",
      "metadata": {
        "colab": {
          "base_uri": "https://localhost:8080/"
        },
        "id": "1f74ae88",
        "outputId": "2e929102-40ee-4fd6-f0d6-8ef8c6ac7d54"
      },
      "outputs": [
        {
          "name": "stdout",
          "output_type": "stream",
          "text": [
            "We went here on a Saturday afternoon and this place was incredibly empty.  They had brunch specials going on, including $2 bloody mary's and mimosas, but we were more in the mood for lunch.  Except for the bloody mary, I had to try one.  It came out in a high-ball-sized glass.  Boo!  But it was really tasty. Yay!  The hubby remembered a sign outside the restaurant a few weeks back that said they had Arrogant Bastard, and he got a 22 oz bottle for $4.75.  Hey, that's not fair!!\n",
            "\n",
            "Next up: the wings.  We were a bit hesitant to order them when the waitress informed us that they are \"seasoned\" but not sauced, so they can't be ordered hot.  We did ask for them crispy though, and the waitress even asked the cooks to throw them back in for a few minutes when they came out not visibly crispy.  These non-traditional wings were actually pretty damn good.  The seasoning was a little spicy and salty with just a hint of sweet.  If I were in the mood for the tang and kick of Frank's Hot Sauce, these wouldn't cut it, but otherwise they were good enough to go back again for.\n",
            "\n",
            "My entree was the Tilapia salad, and I was a bit disappointed.  The fish was a bit dry and uninspired. And the greens underneath were overdressed and wilted.  I ate the greens around the fish and picked out the almonds and Mandarin oranges, but I had to leave the mush hiding underneath the fish.\n",
            "\n",
            "It wasn't bad enough to say I wouldn't go back, but I won't be anxiously awaiting my next trip.\n",
            "Actual Rating:  3\n",
            "Predicted Rating:\n"
          ]
        },
        {
          "data": {
            "text/plain": [
              "3"
            ]
          },
          "execution_count": 46,
          "metadata": {},
          "output_type": "execute_result"
        }
      ],
      "source": [
        "# AVERAGE REVIEW\n",
        "ar = data['text'][16]\n",
        "print(ar)\n",
        "print(\"Actual Rating: \",data['stars'][16])\n",
        "ar_t = vocab.transform([ar])\n",
        "print(\"Predicted Rating:\")\n",
        "mlp.predict(ar_t)[0]"
      ]
    },
    {
      "cell_type": "code",
      "execution_count": 47,
      "id": "34689e8f",
      "metadata": {
        "colab": {
          "base_uri": "https://localhost:8080/"
        },
        "id": "34689e8f",
        "outputId": "c2040d7e-b51c-496c-f00d-ce55014a4e15"
      },
      "outputs": [
        {
          "name": "stdout",
          "output_type": "stream",
          "text": [
            "We went here on a Saturday afternoon and this place was incredibly empty.  They had brunch specials going on, including $2 bloody mary's and mimosas, but we were more in the mood for lunch.  Except for the bloody mary, I had to try one.  It came out in a high-ball-sized glass.  Boo!  But it was really tasty. Yay!  The hubby remembered a sign outside the restaurant a few weeks back that said they had Arrogant Bastard, and he got a 22 oz bottle for $4.75.  Hey, that's not fair!!\n",
            "\n",
            "Next up: the wings.  We were a bit hesitant to order them when the waitress informed us that they are \"seasoned\" but not sauced, so they can't be ordered hot.  We did ask for them crispy though, and the waitress even asked the cooks to throw them back in for a few minutes when they came out not visibly crispy.  These non-traditional wings were actually pretty damn good.  The seasoning was a little spicy and salty with just a hint of sweet.  If I were in the mood for the tang and kick of Frank's Hot Sauce, these wouldn't cut it, but otherwise they were good enough to go back again for.\n",
            "\n",
            "My entree was the Tilapia salad, and I was a bit disappointed.  The fish was a bit dry and uninspired. And the greens underneath were overdressed and wilted.  I ate the greens around the fish and picked out the almonds and Mandarin oranges, but I had to leave the mush hiding underneath the fish.\n",
            "\n",
            "It wasn't bad enough to say I wouldn't go back, but I won't be anxiously awaiting my next trip.\n",
            "Actual Rating:  1\n",
            "Predicted Rating:\n"
          ]
        },
        {
          "data": {
            "text/plain": [
              "3"
            ]
          },
          "execution_count": 47,
          "metadata": {},
          "output_type": "execute_result"
        }
      ],
      "source": [
        "# NEGATIVE REVIEW\n",
        "nr = data['text'][16]\n",
        "print(nr)\n",
        "print(\"Actual Rating: \",data['stars'][23])\n",
        "nr_t = vocab.transform([nr])\n",
        "print(\"Predicted Rating:\")\n",
        "mlp.predict(nr_t)[0]"
      ]
    }
  ],
  "metadata": {
    "colab": {
      "provenance": []
    },
    "kernelspec": {
      "display_name": "Python 3 (ipykernel)",
      "language": "python",
      "name": "python3"
    },
    "language_info": {
      "codemirror_mode": {
        "name": "ipython",
        "version": 3
      },
      "file_extension": ".py",
      "mimetype": "text/x-python",
      "name": "python",
      "nbconvert_exporter": "python",
      "pygments_lexer": "ipython3",
      "version": "3.10.10"
    }
  },
  "nbformat": 4,
  "nbformat_minor": 5
}
